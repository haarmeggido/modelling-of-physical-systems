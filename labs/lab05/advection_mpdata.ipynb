{
  "cells": [
    {
      "cell_type": "markdown",
      "id": "80339956-b3c6-4129-a02d-64de0a53f1be",
      "metadata": {
        "id": "80339956-b3c6-4129-a02d-64de0a53f1be"
      },
      "source": [
        "# AGH Modelling of Physical Systems Lab 5 (2025 April 1st)\n",
        "Sylwester Arabas (sylwester.arabas@agh.edu.pl)"
      ]
    },
    {
      "cell_type": "code",
      "source": [
        "# !pip install open_atmos_jupyter_utils"
      ],
      "metadata": {
        "colab": {
          "base_uri": "https://localhost:8080/"
        },
        "id": "OpTUx8bq2htO",
        "outputId": "cbc48df2-faae-40d7-bf80-9707bafeb050"
      },
      "id": "OpTUx8bq2htO",
      "execution_count": null,
      "outputs": [
        {
          "output_type": "stream",
          "name": "stdout",
          "text": [
            "Collecting open_atmos_jupyter_utils\n",
            "  Downloading open_atmos_jupyter_utils-1.3.0-py3-none-any.whl.metadata (5.7 kB)\n",
            "Requirement already satisfied: ipywidgets in /usr/local/lib/python3.11/dist-packages (from open_atmos_jupyter_utils) (7.7.1)\n",
            "Requirement already satisfied: IPython in /usr/local/lib/python3.11/dist-packages (from open_atmos_jupyter_utils) (7.34.0)\n",
            "Requirement already satisfied: matplotlib in /usr/local/lib/python3.11/dist-packages (from open_atmos_jupyter_utils) (3.10.0)\n",
            "Requirement already satisfied: imageio in /usr/local/lib/python3.11/dist-packages (from open_atmos_jupyter_utils) (2.37.0)\n",
            "Requirement already satisfied: nbformat in /usr/local/lib/python3.11/dist-packages (from open_atmos_jupyter_utils) (5.10.4)\n",
            "Requirement already satisfied: numpy in /usr/local/lib/python3.11/dist-packages (from imageio->open_atmos_jupyter_utils) (2.0.2)\n",
            "Requirement already satisfied: pillow>=8.3.2 in /usr/local/lib/python3.11/dist-packages (from imageio->open_atmos_jupyter_utils) (11.1.0)\n",
            "Requirement already satisfied: setuptools>=18.5 in /usr/local/lib/python3.11/dist-packages (from IPython->open_atmos_jupyter_utils) (75.2.0)\n",
            "Collecting jedi>=0.16 (from IPython->open_atmos_jupyter_utils)\n",
            "  Downloading jedi-0.19.2-py2.py3-none-any.whl.metadata (22 kB)\n",
            "Requirement already satisfied: decorator in /usr/local/lib/python3.11/dist-packages (from IPython->open_atmos_jupyter_utils) (4.4.2)\n",
            "Requirement already satisfied: pickleshare in /usr/local/lib/python3.11/dist-packages (from IPython->open_atmos_jupyter_utils) (0.7.5)\n",
            "Requirement already satisfied: traitlets>=4.2 in /usr/local/lib/python3.11/dist-packages (from IPython->open_atmos_jupyter_utils) (5.7.1)\n",
            "Requirement already satisfied: prompt-toolkit!=3.0.0,!=3.0.1,<3.1.0,>=2.0.0 in /usr/local/lib/python3.11/dist-packages (from IPython->open_atmos_jupyter_utils) (3.0.50)\n",
            "Requirement already satisfied: pygments in /usr/local/lib/python3.11/dist-packages (from IPython->open_atmos_jupyter_utils) (2.18.0)\n",
            "Requirement already satisfied: backcall in /usr/local/lib/python3.11/dist-packages (from IPython->open_atmos_jupyter_utils) (0.2.0)\n",
            "Requirement already satisfied: matplotlib-inline in /usr/local/lib/python3.11/dist-packages (from IPython->open_atmos_jupyter_utils) (0.1.7)\n",
            "Requirement already satisfied: pexpect>4.3 in /usr/local/lib/python3.11/dist-packages (from IPython->open_atmos_jupyter_utils) (4.9.0)\n",
            "Requirement already satisfied: ipykernel>=4.5.1 in /usr/local/lib/python3.11/dist-packages (from ipywidgets->open_atmos_jupyter_utils) (6.17.1)\n",
            "Requirement already satisfied: ipython-genutils~=0.2.0 in /usr/local/lib/python3.11/dist-packages (from ipywidgets->open_atmos_jupyter_utils) (0.2.0)\n",
            "Requirement already satisfied: widgetsnbextension~=3.6.0 in /usr/local/lib/python3.11/dist-packages (from ipywidgets->open_atmos_jupyter_utils) (3.6.10)\n",
            "Requirement already satisfied: jupyterlab-widgets>=1.0.0 in /usr/local/lib/python3.11/dist-packages (from ipywidgets->open_atmos_jupyter_utils) (3.0.13)\n",
            "Requirement already satisfied: contourpy>=1.0.1 in /usr/local/lib/python3.11/dist-packages (from matplotlib->open_atmos_jupyter_utils) (1.3.1)\n",
            "Requirement already satisfied: cycler>=0.10 in /usr/local/lib/python3.11/dist-packages (from matplotlib->open_atmos_jupyter_utils) (0.12.1)\n",
            "Requirement already satisfied: fonttools>=4.22.0 in /usr/local/lib/python3.11/dist-packages (from matplotlib->open_atmos_jupyter_utils) (4.56.0)\n",
            "Requirement already satisfied: kiwisolver>=1.3.1 in /usr/local/lib/python3.11/dist-packages (from matplotlib->open_atmos_jupyter_utils) (1.4.8)\n",
            "Requirement already satisfied: packaging>=20.0 in /usr/local/lib/python3.11/dist-packages (from matplotlib->open_atmos_jupyter_utils) (24.2)\n",
            "Requirement already satisfied: pyparsing>=2.3.1 in /usr/local/lib/python3.11/dist-packages (from matplotlib->open_atmos_jupyter_utils) (3.2.3)\n",
            "Requirement already satisfied: python-dateutil>=2.7 in /usr/local/lib/python3.11/dist-packages (from matplotlib->open_atmos_jupyter_utils) (2.8.2)\n",
            "Requirement already satisfied: fastjsonschema>=2.15 in /usr/local/lib/python3.11/dist-packages (from nbformat->open_atmos_jupyter_utils) (2.21.1)\n",
            "Requirement already satisfied: jsonschema>=2.6 in /usr/local/lib/python3.11/dist-packages (from nbformat->open_atmos_jupyter_utils) (4.23.0)\n",
            "Requirement already satisfied: jupyter-core!=5.0.*,>=4.12 in /usr/local/lib/python3.11/dist-packages (from nbformat->open_atmos_jupyter_utils) (5.7.2)\n",
            "Requirement already satisfied: debugpy>=1.0 in /usr/local/lib/python3.11/dist-packages (from ipykernel>=4.5.1->ipywidgets->open_atmos_jupyter_utils) (1.8.0)\n",
            "Requirement already satisfied: jupyter-client>=6.1.12 in /usr/local/lib/python3.11/dist-packages (from ipykernel>=4.5.1->ipywidgets->open_atmos_jupyter_utils) (6.1.12)\n",
            "Requirement already satisfied: nest-asyncio in /usr/local/lib/python3.11/dist-packages (from ipykernel>=4.5.1->ipywidgets->open_atmos_jupyter_utils) (1.6.0)\n",
            "Requirement already satisfied: psutil in /usr/local/lib/python3.11/dist-packages (from ipykernel>=4.5.1->ipywidgets->open_atmos_jupyter_utils) (5.9.5)\n",
            "Requirement already satisfied: pyzmq>=17 in /usr/local/lib/python3.11/dist-packages (from ipykernel>=4.5.1->ipywidgets->open_atmos_jupyter_utils) (24.0.1)\n",
            "Requirement already satisfied: tornado>=6.1 in /usr/local/lib/python3.11/dist-packages (from ipykernel>=4.5.1->ipywidgets->open_atmos_jupyter_utils) (6.4.2)\n",
            "Requirement already satisfied: parso<0.9.0,>=0.8.4 in /usr/local/lib/python3.11/dist-packages (from jedi>=0.16->IPython->open_atmos_jupyter_utils) (0.8.4)\n",
            "Requirement already satisfied: attrs>=22.2.0 in /usr/local/lib/python3.11/dist-packages (from jsonschema>=2.6->nbformat->open_atmos_jupyter_utils) (25.3.0)\n",
            "Requirement already satisfied: jsonschema-specifications>=2023.03.6 in /usr/local/lib/python3.11/dist-packages (from jsonschema>=2.6->nbformat->open_atmos_jupyter_utils) (2024.10.1)\n",
            "Requirement already satisfied: referencing>=0.28.4 in /usr/local/lib/python3.11/dist-packages (from jsonschema>=2.6->nbformat->open_atmos_jupyter_utils) (0.36.2)\n",
            "Requirement already satisfied: rpds-py>=0.7.1 in /usr/local/lib/python3.11/dist-packages (from jsonschema>=2.6->nbformat->open_atmos_jupyter_utils) (0.24.0)\n",
            "Requirement already satisfied: platformdirs>=2.5 in /usr/local/lib/python3.11/dist-packages (from jupyter-core!=5.0.*,>=4.12->nbformat->open_atmos_jupyter_utils) (4.3.7)\n",
            "Requirement already satisfied: ptyprocess>=0.5 in /usr/local/lib/python3.11/dist-packages (from pexpect>4.3->IPython->open_atmos_jupyter_utils) (0.7.0)\n",
            "Requirement already satisfied: wcwidth in /usr/local/lib/python3.11/dist-packages (from prompt-toolkit!=3.0.0,!=3.0.1,<3.1.0,>=2.0.0->IPython->open_atmos_jupyter_utils) (0.2.13)\n",
            "Requirement already satisfied: six>=1.5 in /usr/local/lib/python3.11/dist-packages (from python-dateutil>=2.7->matplotlib->open_atmos_jupyter_utils) (1.17.0)\n",
            "Requirement already satisfied: notebook>=4.4.1 in /usr/local/lib/python3.11/dist-packages (from widgetsnbextension~=3.6.0->ipywidgets->open_atmos_jupyter_utils) (6.5.7)\n",
            "Requirement already satisfied: jinja2 in /usr/local/lib/python3.11/dist-packages (from notebook>=4.4.1->widgetsnbextension~=3.6.0->ipywidgets->open_atmos_jupyter_utils) (3.1.6)\n",
            "Requirement already satisfied: argon2-cffi in /usr/local/lib/python3.11/dist-packages (from notebook>=4.4.1->widgetsnbextension~=3.6.0->ipywidgets->open_atmos_jupyter_utils) (23.1.0)\n",
            "Requirement already satisfied: nbconvert>=5 in /usr/local/lib/python3.11/dist-packages (from notebook>=4.4.1->widgetsnbextension~=3.6.0->ipywidgets->open_atmos_jupyter_utils) (7.16.6)\n",
            "Requirement already satisfied: Send2Trash>=1.8.0 in /usr/local/lib/python3.11/dist-packages (from notebook>=4.4.1->widgetsnbextension~=3.6.0->ipywidgets->open_atmos_jupyter_utils) (1.8.3)\n",
            "Requirement already satisfied: terminado>=0.8.3 in /usr/local/lib/python3.11/dist-packages (from notebook>=4.4.1->widgetsnbextension~=3.6.0->ipywidgets->open_atmos_jupyter_utils) (0.18.1)\n",
            "Requirement already satisfied: prometheus-client in /usr/local/lib/python3.11/dist-packages (from notebook>=4.4.1->widgetsnbextension~=3.6.0->ipywidgets->open_atmos_jupyter_utils) (0.21.1)\n",
            "Requirement already satisfied: nbclassic>=0.4.7 in /usr/local/lib/python3.11/dist-packages (from notebook>=4.4.1->widgetsnbextension~=3.6.0->ipywidgets->open_atmos_jupyter_utils) (1.2.0)\n",
            "Requirement already satisfied: typing-extensions>=4.4.0 in /usr/local/lib/python3.11/dist-packages (from referencing>=0.28.4->jsonschema>=2.6->nbformat->open_atmos_jupyter_utils) (4.13.0)\n",
            "Requirement already satisfied: notebook-shim>=0.2.3 in /usr/local/lib/python3.11/dist-packages (from nbclassic>=0.4.7->notebook>=4.4.1->widgetsnbextension~=3.6.0->ipywidgets->open_atmos_jupyter_utils) (0.2.4)\n",
            "Requirement already satisfied: beautifulsoup4 in /usr/local/lib/python3.11/dist-packages (from nbconvert>=5->notebook>=4.4.1->widgetsnbextension~=3.6.0->ipywidgets->open_atmos_jupyter_utils) (4.13.3)\n",
            "Requirement already satisfied: bleach!=5.0.0 in /usr/local/lib/python3.11/dist-packages (from bleach[css]!=5.0.0->nbconvert>=5->notebook>=4.4.1->widgetsnbextension~=3.6.0->ipywidgets->open_atmos_jupyter_utils) (6.2.0)\n",
            "Requirement already satisfied: defusedxml in /usr/local/lib/python3.11/dist-packages (from nbconvert>=5->notebook>=4.4.1->widgetsnbextension~=3.6.0->ipywidgets->open_atmos_jupyter_utils) (0.7.1)\n",
            "Requirement already satisfied: jupyterlab-pygments in /usr/local/lib/python3.11/dist-packages (from nbconvert>=5->notebook>=4.4.1->widgetsnbextension~=3.6.0->ipywidgets->open_atmos_jupyter_utils) (0.3.0)\n",
            "Requirement already satisfied: markupsafe>=2.0 in /usr/local/lib/python3.11/dist-packages (from nbconvert>=5->notebook>=4.4.1->widgetsnbextension~=3.6.0->ipywidgets->open_atmos_jupyter_utils) (3.0.2)\n",
            "Requirement already satisfied: mistune<4,>=2.0.3 in /usr/local/lib/python3.11/dist-packages (from nbconvert>=5->notebook>=4.4.1->widgetsnbextension~=3.6.0->ipywidgets->open_atmos_jupyter_utils) (3.1.3)\n",
            "Requirement already satisfied: nbclient>=0.5.0 in /usr/local/lib/python3.11/dist-packages (from nbconvert>=5->notebook>=4.4.1->widgetsnbextension~=3.6.0->ipywidgets->open_atmos_jupyter_utils) (0.10.2)\n",
            "Requirement already satisfied: pandocfilters>=1.4.1 in /usr/local/lib/python3.11/dist-packages (from nbconvert>=5->notebook>=4.4.1->widgetsnbextension~=3.6.0->ipywidgets->open_atmos_jupyter_utils) (1.5.1)\n",
            "Requirement already satisfied: argon2-cffi-bindings in /usr/local/lib/python3.11/dist-packages (from argon2-cffi->notebook>=4.4.1->widgetsnbextension~=3.6.0->ipywidgets->open_atmos_jupyter_utils) (21.2.0)\n",
            "Requirement already satisfied: webencodings in /usr/local/lib/python3.11/dist-packages (from bleach!=5.0.0->bleach[css]!=5.0.0->nbconvert>=5->notebook>=4.4.1->widgetsnbextension~=3.6.0->ipywidgets->open_atmos_jupyter_utils) (0.5.1)\n",
            "Requirement already satisfied: tinycss2<1.5,>=1.1.0 in /usr/local/lib/python3.11/dist-packages (from bleach[css]!=5.0.0->nbconvert>=5->notebook>=4.4.1->widgetsnbextension~=3.6.0->ipywidgets->open_atmos_jupyter_utils) (1.4.0)\n",
            "Requirement already satisfied: jupyter-server<3,>=1.8 in /usr/local/lib/python3.11/dist-packages (from notebook-shim>=0.2.3->nbclassic>=0.4.7->notebook>=4.4.1->widgetsnbextension~=3.6.0->ipywidgets->open_atmos_jupyter_utils) (1.16.0)\n",
            "Requirement already satisfied: cffi>=1.0.1 in /usr/local/lib/python3.11/dist-packages (from argon2-cffi-bindings->argon2-cffi->notebook>=4.4.1->widgetsnbextension~=3.6.0->ipywidgets->open_atmos_jupyter_utils) (1.17.1)\n",
            "Requirement already satisfied: soupsieve>1.2 in /usr/local/lib/python3.11/dist-packages (from beautifulsoup4->nbconvert>=5->notebook>=4.4.1->widgetsnbextension~=3.6.0->ipywidgets->open_atmos_jupyter_utils) (2.6)\n",
            "Requirement already satisfied: pycparser in /usr/local/lib/python3.11/dist-packages (from cffi>=1.0.1->argon2-cffi-bindings->argon2-cffi->notebook>=4.4.1->widgetsnbextension~=3.6.0->ipywidgets->open_atmos_jupyter_utils) (2.22)\n",
            "Requirement already satisfied: anyio>=3.1.0 in /usr/local/lib/python3.11/dist-packages (from jupyter-server<3,>=1.8->notebook-shim>=0.2.3->nbclassic>=0.4.7->notebook>=4.4.1->widgetsnbextension~=3.6.0->ipywidgets->open_atmos_jupyter_utils) (4.9.0)\n",
            "Requirement already satisfied: websocket-client in /usr/local/lib/python3.11/dist-packages (from jupyter-server<3,>=1.8->notebook-shim>=0.2.3->nbclassic>=0.4.7->notebook>=4.4.1->widgetsnbextension~=3.6.0->ipywidgets->open_atmos_jupyter_utils) (1.8.0)\n",
            "Requirement already satisfied: idna>=2.8 in /usr/local/lib/python3.11/dist-packages (from anyio>=3.1.0->jupyter-server<3,>=1.8->notebook-shim>=0.2.3->nbclassic>=0.4.7->notebook>=4.4.1->widgetsnbextension~=3.6.0->ipywidgets->open_atmos_jupyter_utils) (3.10)\n",
            "Requirement already satisfied: sniffio>=1.1 in /usr/local/lib/python3.11/dist-packages (from anyio>=3.1.0->jupyter-server<3,>=1.8->notebook-shim>=0.2.3->nbclassic>=0.4.7->notebook>=4.4.1->widgetsnbextension~=3.6.0->ipywidgets->open_atmos_jupyter_utils) (1.3.1)\n",
            "Downloading open_atmos_jupyter_utils-1.3.0-py3-none-any.whl (19 kB)\n",
            "Downloading jedi-0.19.2-py2.py3-none-any.whl (1.6 MB)\n",
            "\u001b[2K   \u001b[90m━━━━━━━━━━━━━━━━━━━━━━━━━━━━━━━━━━━━━━━━\u001b[0m \u001b[32m1.6/1.6 MB\u001b[0m \u001b[31m21.0 MB/s\u001b[0m eta \u001b[36m0:00:00\u001b[0m\n",
            "\u001b[?25hInstalling collected packages: jedi, open_atmos_jupyter_utils\n",
            "Successfully installed jedi-0.19.2 open_atmos_jupyter_utils-1.3.0\n"
          ]
        }
      ]
    },
    {
      "cell_type": "code",
      "execution_count": null,
      "id": "23ba693b-78b3-4126-878a-583eb7e7c353",
      "metadata": {
        "id": "23ba693b-78b3-4126-878a-583eb7e7c353"
      },
      "outputs": [],
      "source": [
        "import numpy as np\n",
        "from matplotlib import pyplot\n",
        "from open_atmos_jupyter_utils import show_plot"
      ]
    },
    {
      "cell_type": "markdown",
      "id": "c73824e6-6946-4d30-824e-0e1467f4e06f",
      "metadata": {
        "id": "c73824e6-6946-4d30-824e-0e1467f4e06f"
      },
      "source": [
        "**0. advection PDE**\n",
        "\n",
        "Symbols:   \n",
        "* ${\\color{red}t}$: time   \n",
        "* ${\\color{blue}x}$: physical coordinate (e.g., distance or altitude)   \n",
        "* ${\\color{green}\\psi}({\\color{blue}x})$: scalar field (e.g., pollutant concentration)   \n",
        "* ${\\color{brown}u}$: carrier velocity field (e.g., wind)   \n",
        "\n",
        "Transport of $\\color{green}\\psi$ due to advection by $\\color{brown}u$ can be modelled with the advection equation:\n",
        "$$ \\partial_{\\color{red} t} {\\color{green}\\psi} + \\partial_{\\color{blue}x} \\left({\\color{brown}u} {\\color{green}\\psi}\\right) = 0 $$\n",
        "\n",
        "For the special case of $\\partial_{\\color{blue}x} {\\color{brown}u}=0$, an analytical solution describing translation of the signal is readily available:\n",
        "$$ {\\color{green}\\psi}({\\color{blue}x}, {\\color{red}t})=\\psi_0({\\color{blue}x} - {\\color{brown}u}{\\color{red}t})$$\n",
        "where $\\psi_0({\\color{blue}x})={\\color{green}\\psi}({\\color{blue}x}, 0)$."
      ]
    },
    {
      "cell_type": "markdown",
      "id": "bd02a527-4908-44c4-92e0-159785a055e3",
      "metadata": {
        "id": "bd02a527-4908-44c4-92e0-159785a055e3"
      },
      "source": [
        "**1. upwind descretisation**   \n",
        "\n",
        "Symbols:   \n",
        "* ${\\color{red}n} = \\frac{\\color{red}t}{\\Delta t} \\in 0, 1, \\ldots$   \n",
        "* ${\\color{blue}i} = \\frac{\\color{blue}x}{\\Delta x} \\in 0, 1, \\ldots$   \n",
        "* ${\\color{brown}C} = {\\color{brown}u}\\frac{\\Delta t}{\\Delta x}$ (so called Courant number)   \n",
        "* ${\\color{green}\\psi}_{\\color{blue}i}^{\\color{red}n}$: scalar field at \"grid cell\" $\\color{blue}i$ in space at time \"level\" ${\\color{red}n}$   \n",
        "\n",
        "The explicit (forward-in-time) upwind scheme is defined as:\n",
        "$$\n",
        "  {\\color{green}\\psi}^{{\\color{red}n}+1}_{\\color{blue}i} = {\\color{green}\\psi}^{\\color{red}n}_{\\color{blue}i} - \\left[\\frac{{\\color{brown}C} + |{\\color{brown}C}|}{2}\\left({\\color{green}\\psi}^{\\color{red}n}_{\\color{blue}i} - {\\color{green}\\psi}^{\\color{red}n}_{{\\color{blue}i}-1}\\right)+\\frac{{\\color{brown}C}-|{\\color{brown}C}|}{2}\\left({\\color{green}\\psi}^{\\color{red}n}_{{\\color{blue}i}+1}-{\\color{green}\\psi}^{\\color{red}n}_{\\color{blue}i}\\right)\\right]\n",
        "$$\n",
        "\n",
        "or\n",
        "\n",
        "$$\n",
        "  {\\color{green}\\psi}^{{\\color{red}n}+1}_{\\color{blue}i} = {\\color{green}\\psi}^{\\color{red}n}_{\\color{blue}i} - \\left[F\\left({\\color{green}\\psi}^{\\color{red}n}_{\\color{blue}i},  {\\color{green}\\psi}^{\\color{red}n}_{{\\color{blue}i}+1}, {\\color{brown}C_{i+1/2}^{\\color{red}n}}\\right)-F\\left({\\color{green}\\psi}^{\\color{red}n}_{{\\color{blue}i}-1},{\\color{green}\\psi}^{\\color{red}n}_{\\color{blue}i}, {\\color{brown}C_{i-1/2}^{\\color{red}n}}\\right)\\right]\n",
        "$$\n",
        "$$F(\\psi_L, \\psi_R, C)=\\frac{C+|C|}{2}\\psi_L + \\frac{C-|C|}{2}\\psi_R$$\n"
      ]
    },
    {
      "cell_type": "markdown",
      "id": "ea572dfe-1f1d-45df-8c90-4f56ea354b28",
      "metadata": {
        "id": "ea572dfe-1f1d-45df-8c90-4f56ea354b28"
      },
      "source": [
        "**2. code from previous classes: upwind algorithm coded in Python/NumPy**"
      ]
    },
    {
      "cell_type": "code",
      "execution_count": null,
      "id": "accf46c1-ba65-4fce-99f0-179090a4cb6a",
      "metadata": {
        "id": "accf46c1-ba65-4fce-99f0-179090a4cb6a"
      },
      "outputs": [],
      "source": [
        "class shift:\n",
        "    def __init__(self, *, add, sub):\n",
        "        self.add = add\n",
        "        self.sub = sub\n",
        "    def __radd__(self, i):\n",
        "        return slice(i.start + self.add, i.stop + self.add)\n",
        "    def __rsub__(self, i):\n",
        "        return slice(i.start - self.sub, i.stop - self.sub)\n",
        "\n",
        "one = shift(add=1, sub=1)\n",
        "hlf = shift(add=0, sub=1)\n",
        "\n",
        "def F(psi_l, psi_r, C):\n",
        "    return .5 * (C + abs(C)) * psi_l + \\\n",
        "           .5 * (C - abs(C)) * psi_r\n",
        "\n",
        "def upwind(psi, i, C):\n",
        "    psi[i] = psi[i] - (\n",
        "        F(psi[i      ], psi[i + one], C[i + hlf]) -\n",
        "        F(psi[i - one], psi[i      ], C[i - hlf])\n",
        "    )"
      ]
    },
    {
      "cell_type": "code",
      "execution_count": null,
      "id": "cf4a4f5e-348c-4f77-98cd-10a91be969a6",
      "metadata": {
        "id": "cf4a4f5e-348c-4f77-98cd-10a91be969a6"
      },
      "outputs": [],
      "source": [
        "def solve_upwind(*, nt: int, C: float, psi: np.ndarray):\n",
        "    for _ in range(nt):\n",
        "        upwind(psi, slice(1, len(C)), C)\n",
        "    return psi\n",
        "\n",
        "def psi_0(x: np.ndarray, x0: float = 0, a: float = 1, sigma: float = 20):\n",
        "    return a * np.exp(-(x-x0)**2 / 2 / sigma**2)\n",
        "\n",
        "def plot(x, **kwargs):\n",
        "    for label, data in kwargs.items():\n",
        "        pyplot.step(x, data, label=label, where='mid')\n",
        "    pyplot.legend()\n",
        "    pyplot.grid()\n",
        "    show_plot()"
      ]
    },
    {
      "cell_type": "code",
      "execution_count": null,
      "id": "5de88cdd-d4d8-456f-baea-92ef8c5b4ff2",
      "metadata": {
        "colab": {
          "base_uri": "https://localhost:8080/",
          "height": 449,
          "referenced_widgets": [
            "17269371e6174e02a69e16b9a99b2c18",
            "d0549fbdfed14dc2aa238708d774afb4",
            "fd01b4b0e34543deae88ddbed8b7f410",
            "d950a3f8ba124f98ab64052f612a9b7d",
            "d03ed533b1504ea8a145bd6ee4ec7050",
            "8b2a36ab5382469489c4cca3170c6e1c",
            "9c936b47aba84210b60fc578015993c2",
            "0073f826e68f4a1ab9a4563369fbc1c0"
          ]
        },
        "id": "5de88cdd-d4d8-456f-baea-92ef8c5b4ff2",
        "outputId": "df832db6-506e-4fe8-bfe5-bd7bf45d202b"
      },
      "outputs": [
        {
          "output_type": "display_data",
          "data": {
            "text/plain": [
              "<Figure size 640x480 with 1 Axes>"
            ],
            "image/svg+xml": "<?xml version=\"1.0\" encoding=\"utf-8\" standalone=\"no\"?>\n<!DOCTYPE svg PUBLIC \"-//W3C//DTD SVG 1.1//EN\"\n  \"http://www.w3.org/Graphics/SVG/1.1/DTD/svg11.dtd\">\n<svg xmlns:xlink=\"http://www.w3.org/1999/xlink\" width=\"394.423125pt\" height=\"297.190125pt\" viewBox=\"0 0 394.423125 297.190125\" xmlns=\"http://www.w3.org/2000/svg\" version=\"1.1\">\n <metadata>\n  <rdf:RDF xmlns:dc=\"http://purl.org/dc/elements/1.1/\" xmlns:cc=\"http://creativecommons.org/ns#\" xmlns:rdf=\"http://www.w3.org/1999/02/22-rdf-syntax-ns#\">\n   <cc:Work>\n    <dc:type rdf:resource=\"http://purl.org/dc/dcmitype/StillImage\"/>\n    <dc:date>2025-04-01T15:57:45.007150</dc:date>\n    <dc:format>image/svg+xml</dc:format>\n    <dc:creator>\n     <cc:Agent>\n      <dc:title>Matplotlib v3.10.0, https://matplotlib.org/</dc:title>\n     </cc:Agent>\n    </dc:creator>\n   </cc:Work>\n  </rdf:RDF>\n </metadata>\n <defs>\n  <style type=\"text/css\">*{stroke-linejoin: round; stroke-linecap: butt}</style>\n </defs>\n <g id=\"figure_1\">\n  <g id=\"patch_1\">\n   <path d=\"M 0 297.190125 \nL 394.423125 297.190125 \nL 394.423125 0 \nL 0 0 \nz\n\" style=\"fill: #ffffff\"/>\n  </g>\n  <g id=\"axes_1\">\n   <g id=\"patch_2\">\n    <path d=\"M 30.103125 273.312 \nL 387.223125 273.312 \nL 387.223125 7.2 \nL 30.103125 7.2 \nz\n\" style=\"fill: #ffffff\"/>\n   </g>\n   <g id=\"matplotlib.axis_1\">\n    <g id=\"xtick_1\">\n     <g id=\"line2d_1\">\n      <path d=\"M 46.335852 273.312 \nL 46.335852 7.2 \n\" clip-path=\"url(#p08557537d8)\" style=\"fill: none; stroke: #b0b0b0; stroke-width: 0.8; stroke-linecap: square\"/>\n     </g>\n     <g id=\"line2d_2\">\n      <defs>\n       <path id=\"m2e708c9793\" d=\"M 0 0 \nL 0 3.5 \n\" style=\"stroke: #000000; stroke-width: 0.8\"/>\n      </defs>\n      <g>\n       <use xlink:href=\"#m2e708c9793\" x=\"46.335852\" y=\"273.312\" style=\"stroke: #000000; stroke-width: 0.8\"/>\n      </g>\n     </g>\n     <g id=\"text_1\">\n      <!-- −100 -->\n      <g transform=\"translate(32.602259 287.910437) scale(0.1 -0.1)\">\n       <defs>\n        <path id=\"DejaVuSans-2212\" d=\"M 678 2272 \nL 4684 2272 \nL 4684 1741 \nL 678 1741 \nL 678 2272 \nz\n\" transform=\"scale(0.015625)\"/>\n        <path id=\"DejaVuSans-31\" d=\"M 794 531 \nL 1825 531 \nL 1825 4091 \nL 703 3866 \nL 703 4441 \nL 1819 4666 \nL 2450 4666 \nL 2450 531 \nL 3481 531 \nL 3481 0 \nL 794 0 \nL 794 531 \nz\n\" transform=\"scale(0.015625)\"/>\n        <path id=\"DejaVuSans-30\" d=\"M 2034 4250 \nQ 1547 4250 1301 3770 \nQ 1056 3291 1056 2328 \nQ 1056 1369 1301 889 \nQ 1547 409 2034 409 \nQ 2525 409 2770 889 \nQ 3016 1369 3016 2328 \nQ 3016 3291 2770 3770 \nQ 2525 4250 2034 4250 \nz\nM 2034 4750 \nQ 2819 4750 3233 4129 \nQ 3647 3509 3647 2328 \nQ 3647 1150 3233 529 \nQ 2819 -91 2034 -91 \nQ 1250 -91 836 529 \nQ 422 1150 422 2328 \nQ 422 3509 836 4129 \nQ 1250 4750 2034 4750 \nz\n\" transform=\"scale(0.015625)\"/>\n       </defs>\n       <use xlink:href=\"#DejaVuSans-2212\"/>\n       <use xlink:href=\"#DejaVuSans-31\" transform=\"translate(83.789062 0)\"/>\n       <use xlink:href=\"#DejaVuSans-30\" transform=\"translate(147.412109 0)\"/>\n       <use xlink:href=\"#DejaVuSans-30\" transform=\"translate(211.035156 0)\"/>\n      </g>\n     </g>\n    </g>\n    <g id=\"xtick_2\">\n     <g id=\"line2d_3\">\n      <path d=\"M 86.91767 273.312 \nL 86.91767 7.2 \n\" clip-path=\"url(#p08557537d8)\" style=\"fill: none; stroke: #b0b0b0; stroke-width: 0.8; stroke-linecap: square\"/>\n     </g>\n     <g id=\"line2d_4\">\n      <g>\n       <use xlink:href=\"#m2e708c9793\" x=\"86.91767\" y=\"273.312\" style=\"stroke: #000000; stroke-width: 0.8\"/>\n      </g>\n     </g>\n     <g id=\"text_2\">\n      <!-- −50 -->\n      <g transform=\"translate(76.365327 287.910437) scale(0.1 -0.1)\">\n       <defs>\n        <path id=\"DejaVuSans-35\" d=\"M 691 4666 \nL 3169 4666 \nL 3169 4134 \nL 1269 4134 \nL 1269 2991 \nQ 1406 3038 1543 3061 \nQ 1681 3084 1819 3084 \nQ 2600 3084 3056 2656 \nQ 3513 2228 3513 1497 \nQ 3513 744 3044 326 \nQ 2575 -91 1722 -91 \nQ 1428 -91 1123 -41 \nQ 819 9 494 109 \nL 494 744 \nQ 775 591 1075 516 \nQ 1375 441 1709 441 \nQ 2250 441 2565 725 \nQ 2881 1009 2881 1497 \nQ 2881 1984 2565 2268 \nQ 2250 2553 1709 2553 \nQ 1456 2553 1204 2497 \nQ 953 2441 691 2322 \nL 691 4666 \nz\n\" transform=\"scale(0.015625)\"/>\n       </defs>\n       <use xlink:href=\"#DejaVuSans-2212\"/>\n       <use xlink:href=\"#DejaVuSans-35\" transform=\"translate(83.789062 0)\"/>\n       <use xlink:href=\"#DejaVuSans-30\" transform=\"translate(147.412109 0)\"/>\n      </g>\n     </g>\n    </g>\n    <g id=\"xtick_3\">\n     <g id=\"line2d_5\">\n      <path d=\"M 127.499489 273.312 \nL 127.499489 7.2 \n\" clip-path=\"url(#p08557537d8)\" style=\"fill: none; stroke: #b0b0b0; stroke-width: 0.8; stroke-linecap: square\"/>\n     </g>\n     <g id=\"line2d_6\">\n      <g>\n       <use xlink:href=\"#m2e708c9793\" x=\"127.499489\" y=\"273.312\" style=\"stroke: #000000; stroke-width: 0.8\"/>\n      </g>\n     </g>\n     <g id=\"text_3\">\n      <!-- 0 -->\n      <g transform=\"translate(124.318239 287.910437) scale(0.1 -0.1)\">\n       <use xlink:href=\"#DejaVuSans-30\"/>\n      </g>\n     </g>\n    </g>\n    <g id=\"xtick_4\">\n     <g id=\"line2d_7\">\n      <path d=\"M 168.081307 273.312 \nL 168.081307 7.2 \n\" clip-path=\"url(#p08557537d8)\" style=\"fill: none; stroke: #b0b0b0; stroke-width: 0.8; stroke-linecap: square\"/>\n     </g>\n     <g id=\"line2d_8\">\n      <g>\n       <use xlink:href=\"#m2e708c9793\" x=\"168.081307\" y=\"273.312\" style=\"stroke: #000000; stroke-width: 0.8\"/>\n      </g>\n     </g>\n     <g id=\"text_4\">\n      <!-- 50 -->\n      <g transform=\"translate(161.718807 287.910437) scale(0.1 -0.1)\">\n       <use xlink:href=\"#DejaVuSans-35\"/>\n       <use xlink:href=\"#DejaVuSans-30\" transform=\"translate(63.623047 0)\"/>\n      </g>\n     </g>\n    </g>\n    <g id=\"xtick_5\">\n     <g id=\"line2d_9\">\n      <path d=\"M 208.663125 273.312 \nL 208.663125 7.2 \n\" clip-path=\"url(#p08557537d8)\" style=\"fill: none; stroke: #b0b0b0; stroke-width: 0.8; stroke-linecap: square\"/>\n     </g>\n     <g id=\"line2d_10\">\n      <g>\n       <use xlink:href=\"#m2e708c9793\" x=\"208.663125\" y=\"273.312\" style=\"stroke: #000000; stroke-width: 0.8\"/>\n      </g>\n     </g>\n     <g id=\"text_5\">\n      <!-- 100 -->\n      <g transform=\"translate(199.119375 287.910437) scale(0.1 -0.1)\">\n       <use xlink:href=\"#DejaVuSans-31\"/>\n       <use xlink:href=\"#DejaVuSans-30\" transform=\"translate(63.623047 0)\"/>\n       <use xlink:href=\"#DejaVuSans-30\" transform=\"translate(127.246094 0)\"/>\n      </g>\n     </g>\n    </g>\n    <g id=\"xtick_6\">\n     <g id=\"line2d_11\">\n      <path d=\"M 249.244943 273.312 \nL 249.244943 7.2 \n\" clip-path=\"url(#p08557537d8)\" style=\"fill: none; stroke: #b0b0b0; stroke-width: 0.8; stroke-linecap: square\"/>\n     </g>\n     <g id=\"line2d_12\">\n      <g>\n       <use xlink:href=\"#m2e708c9793\" x=\"249.244943\" y=\"273.312\" style=\"stroke: #000000; stroke-width: 0.8\"/>\n      </g>\n     </g>\n     <g id=\"text_6\">\n      <!-- 150 -->\n      <g transform=\"translate(239.701193 287.910437) scale(0.1 -0.1)\">\n       <use xlink:href=\"#DejaVuSans-31\"/>\n       <use xlink:href=\"#DejaVuSans-35\" transform=\"translate(63.623047 0)\"/>\n       <use xlink:href=\"#DejaVuSans-30\" transform=\"translate(127.246094 0)\"/>\n      </g>\n     </g>\n    </g>\n    <g id=\"xtick_7\">\n     <g id=\"line2d_13\">\n      <path d=\"M 289.826761 273.312 \nL 289.826761 7.2 \n\" clip-path=\"url(#p08557537d8)\" style=\"fill: none; stroke: #b0b0b0; stroke-width: 0.8; stroke-linecap: square\"/>\n     </g>\n     <g id=\"line2d_14\">\n      <g>\n       <use xlink:href=\"#m2e708c9793\" x=\"289.826761\" y=\"273.312\" style=\"stroke: #000000; stroke-width: 0.8\"/>\n      </g>\n     </g>\n     <g id=\"text_7\">\n      <!-- 200 -->\n      <g transform=\"translate(280.283011 287.910437) scale(0.1 -0.1)\">\n       <defs>\n        <path id=\"DejaVuSans-32\" d=\"M 1228 531 \nL 3431 531 \nL 3431 0 \nL 469 0 \nL 469 531 \nQ 828 903 1448 1529 \nQ 2069 2156 2228 2338 \nQ 2531 2678 2651 2914 \nQ 2772 3150 2772 3378 \nQ 2772 3750 2511 3984 \nQ 2250 4219 1831 4219 \nQ 1534 4219 1204 4116 \nQ 875 4013 500 3803 \nL 500 4441 \nQ 881 4594 1212 4672 \nQ 1544 4750 1819 4750 \nQ 2544 4750 2975 4387 \nQ 3406 4025 3406 3419 \nQ 3406 3131 3298 2873 \nQ 3191 2616 2906 2266 \nQ 2828 2175 2409 1742 \nQ 1991 1309 1228 531 \nz\n\" transform=\"scale(0.015625)\"/>\n       </defs>\n       <use xlink:href=\"#DejaVuSans-32\"/>\n       <use xlink:href=\"#DejaVuSans-30\" transform=\"translate(63.623047 0)\"/>\n       <use xlink:href=\"#DejaVuSans-30\" transform=\"translate(127.246094 0)\"/>\n      </g>\n     </g>\n    </g>\n    <g id=\"xtick_8\">\n     <g id=\"line2d_15\">\n      <path d=\"M 330.40858 273.312 \nL 330.40858 7.2 \n\" clip-path=\"url(#p08557537d8)\" style=\"fill: none; stroke: #b0b0b0; stroke-width: 0.8; stroke-linecap: square\"/>\n     </g>\n     <g id=\"line2d_16\">\n      <g>\n       <use xlink:href=\"#m2e708c9793\" x=\"330.40858\" y=\"273.312\" style=\"stroke: #000000; stroke-width: 0.8\"/>\n      </g>\n     </g>\n     <g id=\"text_8\">\n      <!-- 250 -->\n      <g transform=\"translate(320.86483 287.910437) scale(0.1 -0.1)\">\n       <use xlink:href=\"#DejaVuSans-32\"/>\n       <use xlink:href=\"#DejaVuSans-35\" transform=\"translate(63.623047 0)\"/>\n       <use xlink:href=\"#DejaVuSans-30\" transform=\"translate(127.246094 0)\"/>\n      </g>\n     </g>\n    </g>\n    <g id=\"xtick_9\">\n     <g id=\"line2d_17\">\n      <path d=\"M 370.990398 273.312 \nL 370.990398 7.2 \n\" clip-path=\"url(#p08557537d8)\" style=\"fill: none; stroke: #b0b0b0; stroke-width: 0.8; stroke-linecap: square\"/>\n     </g>\n     <g id=\"line2d_18\">\n      <g>\n       <use xlink:href=\"#m2e708c9793\" x=\"370.990398\" y=\"273.312\" style=\"stroke: #000000; stroke-width: 0.8\"/>\n      </g>\n     </g>\n     <g id=\"text_9\">\n      <!-- 300 -->\n      <g transform=\"translate(361.446648 287.910437) scale(0.1 -0.1)\">\n       <defs>\n        <path id=\"DejaVuSans-33\" d=\"M 2597 2516 \nQ 3050 2419 3304 2112 \nQ 3559 1806 3559 1356 \nQ 3559 666 3084 287 \nQ 2609 -91 1734 -91 \nQ 1441 -91 1130 -33 \nQ 819 25 488 141 \nL 488 750 \nQ 750 597 1062 519 \nQ 1375 441 1716 441 \nQ 2309 441 2620 675 \nQ 2931 909 2931 1356 \nQ 2931 1769 2642 2001 \nQ 2353 2234 1838 2234 \nL 1294 2234 \nL 1294 2753 \nL 1863 2753 \nQ 2328 2753 2575 2939 \nQ 2822 3125 2822 3475 \nQ 2822 3834 2567 4026 \nQ 2313 4219 1838 4219 \nQ 1578 4219 1281 4162 \nQ 984 4106 628 3988 \nL 628 4550 \nQ 988 4650 1302 4700 \nQ 1616 4750 1894 4750 \nQ 2613 4750 3031 4423 \nQ 3450 4097 3450 3541 \nQ 3450 3153 3228 2886 \nQ 3006 2619 2597 2516 \nz\n\" transform=\"scale(0.015625)\"/>\n       </defs>\n       <use xlink:href=\"#DejaVuSans-33\"/>\n       <use xlink:href=\"#DejaVuSans-30\" transform=\"translate(63.623047 0)\"/>\n       <use xlink:href=\"#DejaVuSans-30\" transform=\"translate(127.246094 0)\"/>\n      </g>\n     </g>\n    </g>\n   </g>\n   <g id=\"matplotlib.axis_2\">\n    <g id=\"ytick_1\">\n     <g id=\"line2d_19\">\n      <path d=\"M 30.103125 261.216 \nL 387.223125 261.216 \n\" clip-path=\"url(#p08557537d8)\" style=\"fill: none; stroke: #b0b0b0; stroke-width: 0.8; stroke-linecap: square\"/>\n     </g>\n     <g id=\"line2d_20\">\n      <defs>\n       <path id=\"m04bca02898\" d=\"M 0 0 \nL -3.5 0 \n\" style=\"stroke: #000000; stroke-width: 0.8\"/>\n      </defs>\n      <g>\n       <use xlink:href=\"#m04bca02898\" x=\"30.103125\" y=\"261.216\" style=\"stroke: #000000; stroke-width: 0.8\"/>\n      </g>\n     </g>\n     <g id=\"text_10\">\n      <!-- 0.0 -->\n      <g transform=\"translate(7.2 265.015219) scale(0.1 -0.1)\">\n       <defs>\n        <path id=\"DejaVuSans-2e\" d=\"M 684 794 \nL 1344 794 \nL 1344 0 \nL 684 0 \nL 684 794 \nz\n\" transform=\"scale(0.015625)\"/>\n       </defs>\n       <use xlink:href=\"#DejaVuSans-30\"/>\n       <use xlink:href=\"#DejaVuSans-2e\" transform=\"translate(63.623047 0)\"/>\n       <use xlink:href=\"#DejaVuSans-30\" transform=\"translate(95.410156 0)\"/>\n      </g>\n     </g>\n    </g>\n    <g id=\"ytick_2\">\n     <g id=\"line2d_21\">\n      <path d=\"M 30.103125 212.832 \nL 387.223125 212.832 \n\" clip-path=\"url(#p08557537d8)\" style=\"fill: none; stroke: #b0b0b0; stroke-width: 0.8; stroke-linecap: square\"/>\n     </g>\n     <g id=\"line2d_22\">\n      <g>\n       <use xlink:href=\"#m04bca02898\" x=\"30.103125\" y=\"212.832\" style=\"stroke: #000000; stroke-width: 0.8\"/>\n      </g>\n     </g>\n     <g id=\"text_11\">\n      <!-- 0.2 -->\n      <g transform=\"translate(7.2 216.631219) scale(0.1 -0.1)\">\n       <use xlink:href=\"#DejaVuSans-30\"/>\n       <use xlink:href=\"#DejaVuSans-2e\" transform=\"translate(63.623047 0)\"/>\n       <use xlink:href=\"#DejaVuSans-32\" transform=\"translate(95.410156 0)\"/>\n      </g>\n     </g>\n    </g>\n    <g id=\"ytick_3\">\n     <g id=\"line2d_23\">\n      <path d=\"M 30.103125 164.448 \nL 387.223125 164.448 \n\" clip-path=\"url(#p08557537d8)\" style=\"fill: none; stroke: #b0b0b0; stroke-width: 0.8; stroke-linecap: square\"/>\n     </g>\n     <g id=\"line2d_24\">\n      <g>\n       <use xlink:href=\"#m04bca02898\" x=\"30.103125\" y=\"164.448\" style=\"stroke: #000000; stroke-width: 0.8\"/>\n      </g>\n     </g>\n     <g id=\"text_12\">\n      <!-- 0.4 -->\n      <g transform=\"translate(7.2 168.247219) scale(0.1 -0.1)\">\n       <defs>\n        <path id=\"DejaVuSans-34\" d=\"M 2419 4116 \nL 825 1625 \nL 2419 1625 \nL 2419 4116 \nz\nM 2253 4666 \nL 3047 4666 \nL 3047 1625 \nL 3713 1625 \nL 3713 1100 \nL 3047 1100 \nL 3047 0 \nL 2419 0 \nL 2419 1100 \nL 313 1100 \nL 313 1709 \nL 2253 4666 \nz\n\" transform=\"scale(0.015625)\"/>\n       </defs>\n       <use xlink:href=\"#DejaVuSans-30\"/>\n       <use xlink:href=\"#DejaVuSans-2e\" transform=\"translate(63.623047 0)\"/>\n       <use xlink:href=\"#DejaVuSans-34\" transform=\"translate(95.410156 0)\"/>\n      </g>\n     </g>\n    </g>\n    <g id=\"ytick_4\">\n     <g id=\"line2d_25\">\n      <path d=\"M 30.103125 116.064 \nL 387.223125 116.064 \n\" clip-path=\"url(#p08557537d8)\" style=\"fill: none; stroke: #b0b0b0; stroke-width: 0.8; stroke-linecap: square\"/>\n     </g>\n     <g id=\"line2d_26\">\n      <g>\n       <use xlink:href=\"#m04bca02898\" x=\"30.103125\" y=\"116.064\" style=\"stroke: #000000; stroke-width: 0.8\"/>\n      </g>\n     </g>\n     <g id=\"text_13\">\n      <!-- 0.6 -->\n      <g transform=\"translate(7.2 119.863219) scale(0.1 -0.1)\">\n       <defs>\n        <path id=\"DejaVuSans-36\" d=\"M 2113 2584 \nQ 1688 2584 1439 2293 \nQ 1191 2003 1191 1497 \nQ 1191 994 1439 701 \nQ 1688 409 2113 409 \nQ 2538 409 2786 701 \nQ 3034 994 3034 1497 \nQ 3034 2003 2786 2293 \nQ 2538 2584 2113 2584 \nz\nM 3366 4563 \nL 3366 3988 \nQ 3128 4100 2886 4159 \nQ 2644 4219 2406 4219 \nQ 1781 4219 1451 3797 \nQ 1122 3375 1075 2522 \nQ 1259 2794 1537 2939 \nQ 1816 3084 2150 3084 \nQ 2853 3084 3261 2657 \nQ 3669 2231 3669 1497 \nQ 3669 778 3244 343 \nQ 2819 -91 2113 -91 \nQ 1303 -91 875 529 \nQ 447 1150 447 2328 \nQ 447 3434 972 4092 \nQ 1497 4750 2381 4750 \nQ 2619 4750 2861 4703 \nQ 3103 4656 3366 4563 \nz\n\" transform=\"scale(0.015625)\"/>\n       </defs>\n       <use xlink:href=\"#DejaVuSans-30\"/>\n       <use xlink:href=\"#DejaVuSans-2e\" transform=\"translate(63.623047 0)\"/>\n       <use xlink:href=\"#DejaVuSans-36\" transform=\"translate(95.410156 0)\"/>\n      </g>\n     </g>\n    </g>\n    <g id=\"ytick_5\">\n     <g id=\"line2d_27\">\n      <path d=\"M 30.103125 67.68 \nL 387.223125 67.68 \n\" clip-path=\"url(#p08557537d8)\" style=\"fill: none; stroke: #b0b0b0; stroke-width: 0.8; stroke-linecap: square\"/>\n     </g>\n     <g id=\"line2d_28\">\n      <g>\n       <use xlink:href=\"#m04bca02898\" x=\"30.103125\" y=\"67.68\" style=\"stroke: #000000; stroke-width: 0.8\"/>\n      </g>\n     </g>\n     <g id=\"text_14\">\n      <!-- 0.8 -->\n      <g transform=\"translate(7.2 71.479219) scale(0.1 -0.1)\">\n       <defs>\n        <path id=\"DejaVuSans-38\" d=\"M 2034 2216 \nQ 1584 2216 1326 1975 \nQ 1069 1734 1069 1313 \nQ 1069 891 1326 650 \nQ 1584 409 2034 409 \nQ 2484 409 2743 651 \nQ 3003 894 3003 1313 \nQ 3003 1734 2745 1975 \nQ 2488 2216 2034 2216 \nz\nM 1403 2484 \nQ 997 2584 770 2862 \nQ 544 3141 544 3541 \nQ 544 4100 942 4425 \nQ 1341 4750 2034 4750 \nQ 2731 4750 3128 4425 \nQ 3525 4100 3525 3541 \nQ 3525 3141 3298 2862 \nQ 3072 2584 2669 2484 \nQ 3125 2378 3379 2068 \nQ 3634 1759 3634 1313 \nQ 3634 634 3220 271 \nQ 2806 -91 2034 -91 \nQ 1263 -91 848 271 \nQ 434 634 434 1313 \nQ 434 1759 690 2068 \nQ 947 2378 1403 2484 \nz\nM 1172 3481 \nQ 1172 3119 1398 2916 \nQ 1625 2713 2034 2713 \nQ 2441 2713 2670 2916 \nQ 2900 3119 2900 3481 \nQ 2900 3844 2670 4047 \nQ 2441 4250 2034 4250 \nQ 1625 4250 1398 4047 \nQ 1172 3844 1172 3481 \nz\n\" transform=\"scale(0.015625)\"/>\n       </defs>\n       <use xlink:href=\"#DejaVuSans-30\"/>\n       <use xlink:href=\"#DejaVuSans-2e\" transform=\"translate(63.623047 0)\"/>\n       <use xlink:href=\"#DejaVuSans-38\" transform=\"translate(95.410156 0)\"/>\n      </g>\n     </g>\n    </g>\n    <g id=\"ytick_6\">\n     <g id=\"line2d_29\">\n      <path d=\"M 30.103125 19.296 \nL 387.223125 19.296 \n\" clip-path=\"url(#p08557537d8)\" style=\"fill: none; stroke: #b0b0b0; stroke-width: 0.8; stroke-linecap: square\"/>\n     </g>\n     <g id=\"line2d_30\">\n      <g>\n       <use xlink:href=\"#m04bca02898\" x=\"30.103125\" y=\"19.296\" style=\"stroke: #000000; stroke-width: 0.8\"/>\n      </g>\n     </g>\n     <g id=\"text_15\">\n      <!-- 1.0 -->\n      <g transform=\"translate(7.2 23.095219) scale(0.1 -0.1)\">\n       <use xlink:href=\"#DejaVuSans-31\"/>\n       <use xlink:href=\"#DejaVuSans-2e\" transform=\"translate(63.623047 0)\"/>\n       <use xlink:href=\"#DejaVuSans-30\" transform=\"translate(95.410156 0)\"/>\n      </g>\n     </g>\n    </g>\n   </g>\n   <g id=\"line2d_31\">\n    <path d=\"M 46.335852 261.215098 \nL 50.025108 261.215098 \nL 50.025108 261.208109 \nL 57.403621 261.208109 \nL 57.403621 261.159818 \nL 64.782133 261.159818 \nL 64.782133 260.890686 \nL 72.160646 260.890686 \nL 72.160646 259.683924 \nL 79.539158 259.683924 \nL 79.539158 255.347501 \nL 86.91767 255.347501 \nL 86.91767 242.933168 \nL 94.296183 242.933168 \nL 94.296183 214.889482 \nL 101.674695 214.889482 \nL 101.674695 165.741898 \nL 109.053208 165.741898 \nL 109.053208 101.182375 \nL 116.43172 101.182375 \nL 116.43172 43.040168 \nL 123.810232 43.040168 \nL 123.810232 19.296 \nL 131.188745 19.296 \nL 131.188745 43.040168 \nL 138.567257 43.040168 \nL 138.567257 101.182375 \nL 145.94577 101.182375 \nL 145.94577 165.741898 \nL 153.324282 165.741898 \nL 153.324282 214.889482 \nL 160.702794 214.889482 \nL 160.702794 242.933168 \nL 168.081307 242.933168 \nL 168.081307 255.347501 \nL 175.459819 255.347501 \nL 175.459819 259.683924 \nL 182.838332 259.683924 \nL 182.838332 260.890686 \nL 190.216844 260.890686 \nL 190.216844 261.159818 \nL 197.595356 261.159818 \nL 197.595356 261.208109 \nL 204.973869 261.208109 \nL 204.973869 261.215098 \nL 212.352381 261.215098 \nL 212.352381 261.215916 \nL 219.730894 261.215916 \nL 219.730894 261.215994 \nL 227.109406 261.215994 \nL 227.109406 261.216 \nL 234.487918 261.216 \nL 234.487918 261.216 \nL 241.866431 261.216 \nL 241.866431 261.216 \nL 249.244943 261.216 \nL 249.244943 261.216 \nL 256.623456 261.216 \nL 256.623456 261.216 \nL 264.001968 261.216 \nL 264.001968 261.216 \nL 271.38048 261.216 \nL 271.38048 261.216 \nL 278.758993 261.216 \nL 278.758993 261.216 \nL 286.137505 261.216 \nL 286.137505 261.216 \nL 293.516018 261.216 \nL 293.516018 261.216 \nL 300.89453 261.216 \nL 300.89453 261.216 \nL 308.273042 261.216 \nL 308.273042 261.216 \nL 315.651555 261.216 \nL 315.651555 261.216 \nL 323.030067 261.216 \nL 323.030067 261.216 \nL 330.40858 261.216 \nL 330.40858 261.216 \nL 337.787092 261.216 \nL 337.787092 261.216 \nL 345.165604 261.216 \nL 345.165604 261.216 \nL 352.544117 261.216 \nL 352.544117 261.216 \nL 359.922629 261.216 \nL 359.922629 261.216 \nL 367.301142 261.216 \nL 367.301142 261.216 \nL 370.990398 261.216 \n\" clip-path=\"url(#p08557537d8)\" style=\"fill: none; stroke: #1f77b4; stroke-width: 1.5; stroke-linecap: square\"/>\n   </g>\n   <g id=\"line2d_32\">\n    <path d=\"M 46.335852 261.216 \nL 50.025108 261.216 \nL 50.025108 261.216 \nL 57.403621 261.216 \nL 57.403621 261.216 \nL 64.782133 261.216 \nL 64.782133 261.216 \nL 72.160646 261.216 \nL 72.160646 261.216 \nL 79.539158 261.216 \nL 79.539158 261.216 \nL 86.91767 261.216 \nL 86.91767 261.216 \nL 94.296183 261.216 \nL 94.296183 261.216 \nL 101.674695 261.216 \nL 101.674695 261.216 \nL 109.053208 261.216 \nL 109.053208 261.216 \nL 116.43172 261.216 \nL 116.43172 261.216 \nL 123.810232 261.216 \nL 123.810232 261.216 \nL 131.188745 261.216 \nL 131.188745 261.215998 \nL 138.567257 261.215998 \nL 138.567257 261.215978 \nL 145.94577 261.215978 \nL 145.94577 261.215731 \nL 153.324282 261.215731 \nL 153.324282 261.213379 \nL 160.702794 261.213379 \nL 160.702794 261.195226 \nL 168.081307 261.195226 \nL 168.081307 261.082065 \nL 175.459819 261.082065 \nL 175.459819 260.513687 \nL 182.838332 260.513687 \nL 182.838332 258.220723 \nL 190.216844 258.220723 \nL 190.216844 250.826055 \nL 197.595356 250.826055 \nL 197.595356 231.903074 \nL 204.973869 231.903074 \nL 204.973869 193.953216 \nL 212.352381 193.953216 \nL 212.352381 135.682327 \nL 219.730894 135.682327 \nL 219.730894 70.663184 \nL 227.109406 70.663184 \nL 227.109406 25.960253 \nL 234.487918 25.960253 \nL 234.487918 24.98611 \nL 241.866431 24.98611 \nL 241.866431 68.286256 \nL 249.244943 68.286256 \nL 249.244943 133.061676 \nL 256.623456 133.061676 \nL 256.623456 191.979186 \nL 264.001968 191.979186 \nL 264.001968 230.792399 \nL 271.38048 230.792399 \nL 271.38048 250.342887 \nL 278.758993 250.342887 \nL 278.758993 258.055419 \nL 286.137505 258.055419 \nL 286.137505 260.468778 \nL 293.516018 260.468778 \nL 293.516018 261.072318 \nL 300.89453 261.072318 \nL 300.89453 261.193529 \nL 308.273042 261.193529 \nL 308.273042 261.213142 \nL 315.651555 261.213142 \nL 315.651555 261.215704 \nL 323.030067 261.215704 \nL 323.030067 261.215975 \nL 330.40858 261.215975 \nL 330.40858 261.215998 \nL 337.787092 261.215998 \nL 337.787092 261.216 \nL 345.165604 261.216 \nL 345.165604 261.216 \nL 352.544117 261.216 \nL 352.544117 261.216 \nL 359.922629 261.216 \nL 359.922629 261.216 \nL 367.301142 261.216 \nL 367.301142 261.216 \nL 370.990398 261.216 \n\" clip-path=\"url(#p08557537d8)\" style=\"fill: none; stroke: #ff7f0e; stroke-width: 1.5; stroke-linecap: square\"/>\n   </g>\n   <g id=\"line2d_33\">\n    <path d=\"M 46.335852 261.215098 \nL 50.025108 261.215098 \nL 50.025108 261.215098 \nL 57.403621 261.215098 \nL 57.403621 261.215098 \nL 64.782133 261.215098 \nL 64.782133 261.215098 \nL 72.160646 261.215098 \nL 72.160646 261.215095 \nL 79.539158 261.215095 \nL 79.539158 261.215076 \nL 86.91767 261.215076 \nL 86.91767 261.214968 \nL 94.296183 261.214968 \nL 94.296183 261.214445 \nL 101.674695 261.214445 \nL 101.674695 261.212236 \nL 109.053208 261.212236 \nL 109.053208 261.204015 \nL 116.43172 261.204015 \nL 116.43172 261.17682 \nL 123.810232 261.17682 \nL 123.810232 261.096343 \nL 131.188745 261.096343 \nL 131.188745 260.882251 \nL 138.567257 260.882251 \nL 138.567257 260.368043 \nL 145.94577 260.368043 \nL 145.94577 259.248974 \nL 153.324282 259.248974 \nL 153.324282 257.035494 \nL 160.702794 257.035494 \nL 160.702794 253.046716 \nL 168.081307 253.046716 \nL 168.081307 246.487151 \nL 175.459819 246.487151 \nL 175.459819 236.63575 \nL 182.838332 236.63575 \nL 182.838332 223.131754 \nL 190.216844 223.131754 \nL 190.216844 206.279116 \nL 197.595356 206.279116 \nL 197.595356 187.242708 \nL 204.973869 187.242708 \nL 204.973869 168.012654 \nL 212.352381 168.012654 \nL 212.352381 151.083946 \nL 219.730894 151.083946 \nL 219.730894 138.913879 \nL 227.109406 138.913879 \nL 227.109406 133.324349 \nL 234.487918 133.324349 \nL 234.487918 135.053364 \nL 241.866431 135.053364 \nL 241.866431 143.607412 \nL 249.244943 143.607412 \nL 249.244943 157.449428 \nL 256.623456 157.449428 \nL 256.623456 174.433664 \nL 264.001968 174.433664 \nL 264.001968 192.324732 \nL 271.38048 192.324732 \nL 271.38048 209.237833 \nL 278.758993 209.237833 \nL 278.758993 223.896922 \nL 286.137505 223.896922 \nL 286.137505 235.689568 \nL 293.516018 235.689568 \nL 293.516018 244.564095 \nL 300.89453 244.564095 \nL 300.89453 250.845752 \nL 308.273042 250.845752 \nL 308.273042 255.044712 \nL 315.651555 255.044712 \nL 315.651555 257.703556 \nL 323.030067 257.703556 \nL 323.030067 259.302397 \nL 330.40858 259.302397 \nL 330.40858 260.217279 \nL 337.787092 260.217279 \nL 337.787092 260.716304 \nL 345.165604 260.716304 \nL 345.165604 260.976151 \nL 352.544117 260.976151 \nL 352.544117 261.105484 \nL 359.922629 261.105484 \nL 359.922629 261.167086 \nL 367.301142 261.167086 \nL 367.301142 261.216 \nL 370.990398 261.216 \n\" clip-path=\"url(#p08557537d8)\" style=\"fill: none; stroke: #2ca02c; stroke-width: 1.5; stroke-linecap: square\"/>\n   </g>\n   <g id=\"patch_3\">\n    <path d=\"M 30.103125 273.312 \nL 30.103125 7.2 \n\" style=\"fill: none; stroke: #000000; stroke-width: 0.8; stroke-linejoin: miter; stroke-linecap: square\"/>\n   </g>\n   <g id=\"patch_4\">\n    <path d=\"M 387.223125 273.312 \nL 387.223125 7.2 \n\" style=\"fill: none; stroke: #000000; stroke-width: 0.8; stroke-linejoin: miter; stroke-linecap: square\"/>\n   </g>\n   <g id=\"patch_5\">\n    <path d=\"M 30.103125 273.312 \nL 387.223125 273.312 \n\" style=\"fill: none; stroke: #000000; stroke-width: 0.8; stroke-linejoin: miter; stroke-linecap: square\"/>\n   </g>\n   <g id=\"patch_6\">\n    <path d=\"M 30.103125 7.2 \nL 387.223125 7.2 \n\" style=\"fill: none; stroke: #000000; stroke-width: 0.8; stroke-linejoin: miter; stroke-linecap: square\"/>\n   </g>\n   <g id=\"legend_1\">\n    <g id=\"patch_7\">\n     <path d=\"M 306.855937 59.234375 \nL 380.223125 59.234375 \nQ 382.223125 59.234375 382.223125 57.234375 \nL 382.223125 14.2 \nQ 382.223125 12.2 380.223125 12.2 \nL 306.855937 12.2 \nQ 304.855937 12.2 304.855937 14.2 \nL 304.855937 57.234375 \nQ 304.855937 59.234375 306.855937 59.234375 \nz\n\" style=\"fill: #ffffff; opacity: 0.8; stroke: #cccccc; stroke-linejoin: miter\"/>\n    </g>\n    <g id=\"line2d_34\">\n     <path d=\"M 308.855937 20.298437 \nL 313.855937 20.298437 \nL 313.855937 20.298437 \nL 323.855937 20.298437 \nL 323.855937 20.298437 \nL 328.855937 20.298437 \n\" style=\"fill: none; stroke: #1f77b4; stroke-width: 1.5; stroke-linecap: square\"/>\n    </g>\n    <g id=\"text_16\">\n     <!-- initial -->\n     <g transform=\"translate(336.855937 23.798437) scale(0.1 -0.1)\">\n      <defs>\n       <path id=\"DejaVuSans-69\" d=\"M 603 3500 \nL 1178 3500 \nL 1178 0 \nL 603 0 \nL 603 3500 \nz\nM 603 4863 \nL 1178 4863 \nL 1178 4134 \nL 603 4134 \nL 603 4863 \nz\n\" transform=\"scale(0.015625)\"/>\n       <path id=\"DejaVuSans-6e\" d=\"M 3513 2113 \nL 3513 0 \nL 2938 0 \nL 2938 2094 \nQ 2938 2591 2744 2837 \nQ 2550 3084 2163 3084 \nQ 1697 3084 1428 2787 \nQ 1159 2491 1159 1978 \nL 1159 0 \nL 581 0 \nL 581 3500 \nL 1159 3500 \nL 1159 2956 \nQ 1366 3272 1645 3428 \nQ 1925 3584 2291 3584 \nQ 2894 3584 3203 3211 \nQ 3513 2838 3513 2113 \nz\n\" transform=\"scale(0.015625)\"/>\n       <path id=\"DejaVuSans-74\" d=\"M 1172 4494 \nL 1172 3500 \nL 2356 3500 \nL 2356 3053 \nL 1172 3053 \nL 1172 1153 \nQ 1172 725 1289 603 \nQ 1406 481 1766 481 \nL 2356 481 \nL 2356 0 \nL 1766 0 \nQ 1100 0 847 248 \nQ 594 497 594 1153 \nL 594 3053 \nL 172 3053 \nL 172 3500 \nL 594 3500 \nL 594 4494 \nL 1172 4494 \nz\n\" transform=\"scale(0.015625)\"/>\n       <path id=\"DejaVuSans-61\" d=\"M 2194 1759 \nQ 1497 1759 1228 1600 \nQ 959 1441 959 1056 \nQ 959 750 1161 570 \nQ 1363 391 1709 391 \nQ 2188 391 2477 730 \nQ 2766 1069 2766 1631 \nL 2766 1759 \nL 2194 1759 \nz\nM 3341 1997 \nL 3341 0 \nL 2766 0 \nL 2766 531 \nQ 2569 213 2275 61 \nQ 1981 -91 1556 -91 \nQ 1019 -91 701 211 \nQ 384 513 384 1019 \nQ 384 1609 779 1909 \nQ 1175 2209 1959 2209 \nL 2766 2209 \nL 2766 2266 \nQ 2766 2663 2505 2880 \nQ 2244 3097 1772 3097 \nQ 1472 3097 1187 3025 \nQ 903 2953 641 2809 \nL 641 3341 \nQ 956 3463 1253 3523 \nQ 1550 3584 1831 3584 \nQ 2591 3584 2966 3190 \nQ 3341 2797 3341 1997 \nz\n\" transform=\"scale(0.015625)\"/>\n       <path id=\"DejaVuSans-6c\" d=\"M 603 4863 \nL 1178 4863 \nL 1178 0 \nL 603 0 \nL 603 4863 \nz\n\" transform=\"scale(0.015625)\"/>\n      </defs>\n      <use xlink:href=\"#DejaVuSans-69\"/>\n      <use xlink:href=\"#DejaVuSans-6e\" transform=\"translate(27.783203 0)\"/>\n      <use xlink:href=\"#DejaVuSans-69\" transform=\"translate(91.162109 0)\"/>\n      <use xlink:href=\"#DejaVuSans-74\" transform=\"translate(118.945312 0)\"/>\n      <use xlink:href=\"#DejaVuSans-69\" transform=\"translate(158.154297 0)\"/>\n      <use xlink:href=\"#DejaVuSans-61\" transform=\"translate(185.9375 0)\"/>\n      <use xlink:href=\"#DejaVuSans-6c\" transform=\"translate(247.216797 0)\"/>\n     </g>\n    </g>\n    <g id=\"line2d_35\">\n     <path d=\"M 308.855937 34.976562 \nL 313.855937 34.976562 \nL 313.855937 34.976562 \nL 323.855937 34.976562 \nL 323.855937 34.976562 \nL 328.855937 34.976562 \n\" style=\"fill: none; stroke: #ff7f0e; stroke-width: 1.5; stroke-linecap: square\"/>\n    </g>\n    <g id=\"text_17\">\n     <!-- analytic -->\n     <g transform=\"translate(336.855937 38.476562) scale(0.1 -0.1)\">\n      <defs>\n       <path id=\"DejaVuSans-79\" d=\"M 2059 -325 \nQ 1816 -950 1584 -1140 \nQ 1353 -1331 966 -1331 \nL 506 -1331 \nL 506 -850 \nL 844 -850 \nQ 1081 -850 1212 -737 \nQ 1344 -625 1503 -206 \nL 1606 56 \nL 191 3500 \nL 800 3500 \nL 1894 763 \nL 2988 3500 \nL 3597 3500 \nL 2059 -325 \nz\n\" transform=\"scale(0.015625)\"/>\n       <path id=\"DejaVuSans-63\" d=\"M 3122 3366 \nL 3122 2828 \nQ 2878 2963 2633 3030 \nQ 2388 3097 2138 3097 \nQ 1578 3097 1268 2742 \nQ 959 2388 959 1747 \nQ 959 1106 1268 751 \nQ 1578 397 2138 397 \nQ 2388 397 2633 464 \nQ 2878 531 3122 666 \nL 3122 134 \nQ 2881 22 2623 -34 \nQ 2366 -91 2075 -91 \nQ 1284 -91 818 406 \nQ 353 903 353 1747 \nQ 353 2603 823 3093 \nQ 1294 3584 2113 3584 \nQ 2378 3584 2631 3529 \nQ 2884 3475 3122 3366 \nz\n\" transform=\"scale(0.015625)\"/>\n      </defs>\n      <use xlink:href=\"#DejaVuSans-61\"/>\n      <use xlink:href=\"#DejaVuSans-6e\" transform=\"translate(61.279297 0)\"/>\n      <use xlink:href=\"#DejaVuSans-61\" transform=\"translate(124.658203 0)\"/>\n      <use xlink:href=\"#DejaVuSans-6c\" transform=\"translate(185.9375 0)\"/>\n      <use xlink:href=\"#DejaVuSans-79\" transform=\"translate(213.720703 0)\"/>\n      <use xlink:href=\"#DejaVuSans-74\" transform=\"translate(272.900391 0)\"/>\n      <use xlink:href=\"#DejaVuSans-69\" transform=\"translate(312.109375 0)\"/>\n      <use xlink:href=\"#DejaVuSans-63\" transform=\"translate(339.892578 0)\"/>\n     </g>\n    </g>\n    <g id=\"line2d_36\">\n     <path d=\"M 308.855937 49.654687 \nL 313.855937 49.654687 \nL 313.855937 49.654687 \nL 323.855937 49.654687 \nL 323.855937 49.654687 \nL 328.855937 49.654687 \n\" style=\"fill: none; stroke: #2ca02c; stroke-width: 1.5; stroke-linecap: square\"/>\n    </g>\n    <g id=\"text_18\">\n     <!-- UPWIND -->\n     <g transform=\"translate(336.855937 53.154687) scale(0.1 -0.1)\">\n      <defs>\n       <path id=\"DejaVuSans-55\" d=\"M 556 4666 \nL 1191 4666 \nL 1191 1831 \nQ 1191 1081 1462 751 \nQ 1734 422 2344 422 \nQ 2950 422 3222 751 \nQ 3494 1081 3494 1831 \nL 3494 4666 \nL 4128 4666 \nL 4128 1753 \nQ 4128 841 3676 375 \nQ 3225 -91 2344 -91 \nQ 1459 -91 1007 375 \nQ 556 841 556 1753 \nL 556 4666 \nz\n\" transform=\"scale(0.015625)\"/>\n       <path id=\"DejaVuSans-50\" d=\"M 1259 4147 \nL 1259 2394 \nL 2053 2394 \nQ 2494 2394 2734 2622 \nQ 2975 2850 2975 3272 \nQ 2975 3691 2734 3919 \nQ 2494 4147 2053 4147 \nL 1259 4147 \nz\nM 628 4666 \nL 2053 4666 \nQ 2838 4666 3239 4311 \nQ 3641 3956 3641 3272 \nQ 3641 2581 3239 2228 \nQ 2838 1875 2053 1875 \nL 1259 1875 \nL 1259 0 \nL 628 0 \nL 628 4666 \nz\n\" transform=\"scale(0.015625)\"/>\n       <path id=\"DejaVuSans-57\" d=\"M 213 4666 \nL 850 4666 \nL 1831 722 \nL 2809 4666 \nL 3519 4666 \nL 4500 722 \nL 5478 4666 \nL 6119 4666 \nL 4947 0 \nL 4153 0 \nL 3169 4050 \nL 2175 0 \nL 1381 0 \nL 213 4666 \nz\n\" transform=\"scale(0.015625)\"/>\n       <path id=\"DejaVuSans-49\" d=\"M 628 4666 \nL 1259 4666 \nL 1259 0 \nL 628 0 \nL 628 4666 \nz\n\" transform=\"scale(0.015625)\"/>\n       <path id=\"DejaVuSans-4e\" d=\"M 628 4666 \nL 1478 4666 \nL 3547 763 \nL 3547 4666 \nL 4159 4666 \nL 4159 0 \nL 3309 0 \nL 1241 3903 \nL 1241 0 \nL 628 0 \nL 628 4666 \nz\n\" transform=\"scale(0.015625)\"/>\n       <path id=\"DejaVuSans-44\" d=\"M 1259 4147 \nL 1259 519 \nL 2022 519 \nQ 2988 519 3436 956 \nQ 3884 1394 3884 2338 \nQ 3884 3275 3436 3711 \nQ 2988 4147 2022 4147 \nL 1259 4147 \nz\nM 628 4666 \nL 1925 4666 \nQ 3281 4666 3915 4102 \nQ 4550 3538 4550 2338 \nQ 4550 1131 3912 565 \nQ 3275 0 1925 0 \nL 628 0 \nL 628 4666 \nz\n\" transform=\"scale(0.015625)\"/>\n      </defs>\n      <use xlink:href=\"#DejaVuSans-55\"/>\n      <use xlink:href=\"#DejaVuSans-50\" transform=\"translate(73.193359 0)\"/>\n      <use xlink:href=\"#DejaVuSans-57\" transform=\"translate(133.496094 0)\"/>\n      <use xlink:href=\"#DejaVuSans-49\" transform=\"translate(232.373047 0)\"/>\n      <use xlink:href=\"#DejaVuSans-4e\" transform=\"translate(261.865234 0)\"/>\n      <use xlink:href=\"#DejaVuSans-44\" transform=\"translate(336.669922 0)\"/>\n     </g>\n    </g>\n   </g>\n  </g>\n </g>\n <defs>\n  <clipPath id=\"p08557537d8\">\n   <rect x=\"30.103125\" y=\"7.2\" width=\"357.12\" height=\"266.112\"/>\n  </clipPath>\n </defs>\n</svg>\n"
          },
          "metadata": {}
        },
        {
          "output_type": "display_data",
          "data": {
            "text/plain": [
              "HBox(children=(Button(description='tmp6qkcxkwc.pdf', style=ButtonStyle()), Button(description='tmptmsn4y3t.svg…"
            ],
            "application/vnd.jupyter.widget-view+json": {
              "version_major": 2,
              "version_minor": 0,
              "model_id": "17269371e6174e02a69e16b9a99b2c18"
            }
          },
          "metadata": {}
        }
      ],
      "source": [
        "u = 2\n",
        "t_max = 66\n",
        "\n",
        "nx = 45\n",
        "nt = 100\n",
        "dt = t_max / nt\n",
        "x, dx = np.linspace(-100, 300, nx, retstep=True)\n",
        "\n",
        "plot(\n",
        "    x=x,\n",
        "    initial=psi_0(x),\n",
        "    analytic=psi_0(x - u * t_max),\n",
        "    UPWIND=solve_upwind(nt=nt, C=np.full(nx-1, u * dt / dx), psi=psi_0(x))\n",
        ")"
      ]
    },
    {
      "cell_type": "markdown",
      "id": "b45298e7-4a4d-424b-a5fb-9b3dc9322cf4",
      "metadata": {
        "id": "b45298e7-4a4d-424b-a5fb-9b3dc9322cf4"
      },
      "source": [
        "**3. modified equation analysis of the upwind scheme**\n",
        "\n",
        "While the upwind scheme is conservative, sing-preserving and stable for $|C| \\le 1$, it is only [first-order accurate](https://en.wikipedia.org/wiki/Rate_of_convergence) in space ($\\Delta x$) and time ($\\Delta t$), and incurs [numerical diffusion](https://en.wikipedia.org/wiki/Numerical_diffusion) which can be quantified with the modified-equation analysis by substituting the discretised values other than $\\psi_i^n$ in the scheme formula with their Taylor expansions (using the Big O notation):\n",
        "\n",
        "\\begin{align}\n",
        "\\psi_i^{n+1} &= \\psi_i^{n} + \\frac{\\left.\\partial_t\\psi\\right|_i^n}{1!} (\\,+\\Delta t\\,) + \\frac{\\left.\\partial^2_t\\psi\\right|_i^n}{2!} (\\,+\\Delta t\\,)^2 + O(\\Delta t^3) \\\\\n",
        "\\psi_{i+1}^n &= \\psi_i^n + \\frac{\\left.\\partial_x\\psi\\right|_i^n}{1!} (+\\Delta x) + \\frac{\\left.\\partial^2_x\\psi\\right|_i^n}{2!} (+\\Delta x)^2 + O(\\Delta x^3)\\\\\n",
        "\\psi_{i-1}^n &= \\psi_i^n + \\frac{\\left.\\partial_x\\psi\\right|_i^n}{1!} (-\\Delta x) + \\frac{\\left.\\partial^2_x\\psi\\right|_i^n}{2!} (-\\Delta x)^2 + O(\\Delta x^3)\n",
        "\\end{align}\n",
        "\n",
        "which yields (up to second-order terms):\n",
        "\n",
        "\\begin{align}\n",
        "\\left.\\partial_t\\psi\\right|_i^n \\Delta t + \\underbrace{\\partial^2_t\\psi}_{u^2\\partial_x^2\\psi}|_i^n \\frac{\\Delta t^2}{2} &= \\frac{C}{2} \\left( \\psi^n_{i-1} - \\psi^n_{i+1}\\right) + \\frac{|C|}{2} \\left( \\psi^n_{i-1} - 2 \\psi_i^n + \\psi^n_{i+1}\\right)\\\\\n",
        "&=- \\,C\\, \\Delta x \\, \\partial_x \\left.\\psi\\right|^n_i + \\frac{|C|}{2} \\,\\Delta x^2 \\, \\partial_x^2\\left.\\psi\\right|^n_i\n",
        "\\end{align}\n",
        "\n",
        "in which the highlighted second-order time derivative can be replaced with second-order spatial derivative using the Cauchy-Kovalevskaya procedure (i.e., by substituting the advection eq. into its time-derivative giving $\\partial^2_t \\psi = -u \\partial_x \\partial_t \\psi = u^2 \\partial^2_x \\psi$) yielding the following, so-called, modified equation:\n",
        "\n",
        "$$\n",
        "\\partial_t\\psi|_i^n + u \\partial_x \\psi|_i^n = \\underbrace{\\left(|u| \\frac{\\Delta x}{2} - u^2 \\frac{\\Delta t}{2}\\right)}_{k}\\, \\partial_x^2 \\psi|_i^n  \n",
        "$$\n",
        "\n",
        "which confirms that, as $\\Delta t \\rightarrow 0$ and $\\Delta x \\rightarrow 0$, the upwind scheme approximates the advection eq., but the truncation error has a leading-order source term with a coefficient of numerical diffusion given by $k$."
      ]
    },
    {
      "cell_type": "markdown",
      "id": "8b295490-86d3-45d8-b1da-de96d2a02148",
      "metadata": {
        "id": "8b295490-86d3-45d8-b1da-de96d2a02148"
      },
      "source": [
        "**4. reversing numerical diffusion with MPDATA**\n",
        "\n",
        "The concept of MPDATA lies in reversing the effect of numerical diffusion by using the pseudo-velocity technique that allows to express diffusion terms in transport problems as advective terms. To this end, Smolarkiewicz ([1983](https://doi.org/10.1175%2F1520-0493%281983%29111%3C0479%3AASPDAS%3E2.0.CO%3B2)) introduced the anti-diffusive pseudo velocity (note the opposite sign stemming from, de facto, integrating backwards in time to reverse the effect of diffusion):\n",
        "\n",
        "$$\n",
        "\\partial_t\\psi + \\partial_x \\big(\\!\\!\\!\\!\\!\\!\\!\\!\\!\\!\\!\\!\\underbrace{k \\frac{\\partial_x \\psi}{\\psi}}_\\text{anti-diffusive velocity} \\!\\!\\!\\!\\!\\!\\!\\!\\!\\!\\!\\!\\psi\\big) = 0\n",
        "$$\n",
        "and proposed discretisation allowing to perform a corrective step using upwind integration with an anti-diffusive Courant number field:\n",
        "\n",
        "$$\n",
        "C^{m+1}_{i- 1/2 } = \\frac{\\Delta t}{\\Delta x} k^m_{i- 1/2} \\left.\\frac{\\partial_x \\psi}{\\psi}\\right|^m_{i- 1/2} \\approx \\begin{cases}\n",
        "0 &\\text{  if  } \\psi^m_{i}+\\psi^m_{i-1} = 0\\\\\n",
        "\\left[|C^m_{i-1/2}|-(C^m_{i-1/2})^2\\right]\\frac{\\psi^m_{i}-\\psi^m_{i-1}}{\\psi^m_{i}+\\psi^m_{i-1}} &\\text{  otherwise  }\n",
        "\\end{cases}\n",
        "$$\n",
        "where $m > 0$ numbers algorithm iterations. The first pass of the scheme is an ordinary upwind integration using $C^{m=1}=C$ and yielding $\\psi^{m=1}$. In the second pass, the values of the anti-diffusive Courant number $C^{m=2}$ are computed based on $C^{m=1}$ and $\\psi^{m=1}$, and used to perform an upwind anti-diffusive pass yielding $\\psi^{m=2}$. Subsequent iterations may be used to correct the integration of the anti-diffusive corrections from previous passes. If $M$ iterations are used, $\\psi^{m=M}$ is used as the result of integration of the advective term over one $\\Delta t$."
      ]
    },
    {
      "cell_type": "markdown",
      "id": "b4bed2f8-2ec1-4ff5-b911-3c5284cc2a80",
      "metadata": {
        "id": "b4bed2f8-2ec1-4ff5-b911-3c5284cc2a80"
      },
      "source": [
        "**5. MPDATA algorithm coded in Python/NumPy (incl. time-stepping loop)**"
      ]
    },
    {
      "cell_type": "code",
      "source": [
        "def corrective_C(C, i, psi):\n",
        "  return (np.abs(C[i- hlf]) - np.pow(C[i-hlf],2)) * (psi[i] - psi[i-one])/(psi[i] + psi[i-one])"
      ],
      "metadata": {
        "id": "Iyx6S8PpADD9"
      },
      "id": "Iyx6S8PpADD9",
      "execution_count": null,
      "outputs": []
    },
    {
      "cell_type": "code",
      "execution_count": null,
      "id": "4916e1a9-666d-46c4-952d-a3b26a8dd843",
      "metadata": {
        "id": "4916e1a9-666d-46c4-952d-a3b26a8dd843"
      },
      "outputs": [],
      "source": [
        "def solve_mpdata(*, nt: int, C: float, psi: np.ndarray):\n",
        "    i_ext = slice(1, len(psi))\n",
        "    for _ in range(nt):\n",
        "        upwind(psi, slice(1, len(C)), C)\n",
        "        # corrective pass with anti-step velocity\n",
        "        upwind(psi, slice(1, len(C)), corrective_C(C, i_ext, psi))\n",
        "\n",
        "    return psi"
      ]
    },
    {
      "cell_type": "markdown",
      "id": "940022cd-c039-4246-89de-7d24ba3de579",
      "metadata": {
        "id": "940022cd-c039-4246-89de-7d24ba3de579"
      },
      "source": [
        "**6. comparing analytic and numerical solutions**"
      ]
    },
    {
      "cell_type": "code",
      "source": [
        "u = 2\n",
        "t_max = 100\n",
        "\n",
        "nx = 45\n",
        "nt = 100\n",
        "dt = t_max / nt\n",
        "x, dx = np.linspace(-100, 300, nx, retstep=True)\n"
      ],
      "metadata": {
        "id": "Y3lctqJtEluN"
      },
      "id": "Y3lctqJtEluN",
      "execution_count": null,
      "outputs": []
    },
    {
      "cell_type": "code",
      "execution_count": null,
      "id": "7088e23f-8ccf-43b7-b50a-0f51f40e536c",
      "metadata": {
        "colab": {
          "base_uri": "https://localhost:8080/",
          "height": 449,
          "referenced_widgets": [
            "592bc8e309924ccf83407d369af16158",
            "af49498c6ed44a91aee004d21bc9a181",
            "ca4231b1aa40498f8b654d2b9690bf6e",
            "bec46e7bc82244488bd428da6429c1c0",
            "544b94a6538a4f46bffd9ed680b8f030",
            "55ef70fc012240e9a1cc0fa45d3f8135",
            "a6ad8720b04f452b89a035ae59f90589",
            "aa1b72ee1d284851b1561004b1e1990e"
          ]
        },
        "id": "7088e23f-8ccf-43b7-b50a-0f51f40e536c",
        "outputId": "5e502973-c8eb-4054-9389-f4f2f68ac523"
      },
      "outputs": [
        {
          "output_type": "display_data",
          "data": {
            "text/plain": [
              "<Figure size 640x480 with 1 Axes>"
            ],
            "image/svg+xml": "<?xml version=\"1.0\" encoding=\"utf-8\" standalone=\"no\"?>\n<!DOCTYPE svg PUBLIC \"-//W3C//DTD SVG 1.1//EN\"\n  \"http://www.w3.org/Graphics/SVG/1.1/DTD/svg11.dtd\">\n<svg xmlns:xlink=\"http://www.w3.org/1999/xlink\" width=\"394.423125pt\" height=\"297.190125pt\" viewBox=\"0 0 394.423125 297.190125\" xmlns=\"http://www.w3.org/2000/svg\" version=\"1.1\">\n <metadata>\n  <rdf:RDF xmlns:dc=\"http://purl.org/dc/elements/1.1/\" xmlns:cc=\"http://creativecommons.org/ns#\" xmlns:rdf=\"http://www.w3.org/1999/02/22-rdf-syntax-ns#\">\n   <cc:Work>\n    <dc:type rdf:resource=\"http://purl.org/dc/dcmitype/StillImage\"/>\n    <dc:date>2025-04-01T16:00:24.960544</dc:date>\n    <dc:format>image/svg+xml</dc:format>\n    <dc:creator>\n     <cc:Agent>\n      <dc:title>Matplotlib v3.10.0, https://matplotlib.org/</dc:title>\n     </cc:Agent>\n    </dc:creator>\n   </cc:Work>\n  </rdf:RDF>\n </metadata>\n <defs>\n  <style type=\"text/css\">*{stroke-linejoin: round; stroke-linecap: butt}</style>\n </defs>\n <g id=\"figure_1\">\n  <g id=\"patch_1\">\n   <path d=\"M 0 297.190125 \nL 394.423125 297.190125 \nL 394.423125 0 \nL 0 0 \nz\n\" style=\"fill: #ffffff\"/>\n  </g>\n  <g id=\"axes_1\">\n   <g id=\"patch_2\">\n    <path d=\"M 30.103125 273.312 \nL 387.223125 273.312 \nL 387.223125 7.2 \nL 30.103125 7.2 \nz\n\" style=\"fill: #ffffff\"/>\n   </g>\n   <g id=\"matplotlib.axis_1\">\n    <g id=\"xtick_1\">\n     <g id=\"line2d_1\">\n      <path d=\"M 46.335852 273.312 \nL 46.335852 7.2 \n\" clip-path=\"url(#p5d7c777efd)\" style=\"fill: none; stroke: #b0b0b0; stroke-width: 0.8; stroke-linecap: square\"/>\n     </g>\n     <g id=\"line2d_2\">\n      <defs>\n       <path id=\"m3b865be447\" d=\"M 0 0 \nL 0 3.5 \n\" style=\"stroke: #000000; stroke-width: 0.8\"/>\n      </defs>\n      <g>\n       <use xlink:href=\"#m3b865be447\" x=\"46.335852\" y=\"273.312\" style=\"stroke: #000000; stroke-width: 0.8\"/>\n      </g>\n     </g>\n     <g id=\"text_1\">\n      <!-- −100 -->\n      <g transform=\"translate(32.602259 287.910437) scale(0.1 -0.1)\">\n       <defs>\n        <path id=\"DejaVuSans-2212\" d=\"M 678 2272 \nL 4684 2272 \nL 4684 1741 \nL 678 1741 \nL 678 2272 \nz\n\" transform=\"scale(0.015625)\"/>\n        <path id=\"DejaVuSans-31\" d=\"M 794 531 \nL 1825 531 \nL 1825 4091 \nL 703 3866 \nL 703 4441 \nL 1819 4666 \nL 2450 4666 \nL 2450 531 \nL 3481 531 \nL 3481 0 \nL 794 0 \nL 794 531 \nz\n\" transform=\"scale(0.015625)\"/>\n        <path id=\"DejaVuSans-30\" d=\"M 2034 4250 \nQ 1547 4250 1301 3770 \nQ 1056 3291 1056 2328 \nQ 1056 1369 1301 889 \nQ 1547 409 2034 409 \nQ 2525 409 2770 889 \nQ 3016 1369 3016 2328 \nQ 3016 3291 2770 3770 \nQ 2525 4250 2034 4250 \nz\nM 2034 4750 \nQ 2819 4750 3233 4129 \nQ 3647 3509 3647 2328 \nQ 3647 1150 3233 529 \nQ 2819 -91 2034 -91 \nQ 1250 -91 836 529 \nQ 422 1150 422 2328 \nQ 422 3509 836 4129 \nQ 1250 4750 2034 4750 \nz\n\" transform=\"scale(0.015625)\"/>\n       </defs>\n       <use xlink:href=\"#DejaVuSans-2212\"/>\n       <use xlink:href=\"#DejaVuSans-31\" transform=\"translate(83.789062 0)\"/>\n       <use xlink:href=\"#DejaVuSans-30\" transform=\"translate(147.412109 0)\"/>\n       <use xlink:href=\"#DejaVuSans-30\" transform=\"translate(211.035156 0)\"/>\n      </g>\n     </g>\n    </g>\n    <g id=\"xtick_2\">\n     <g id=\"line2d_3\">\n      <path d=\"M 86.91767 273.312 \nL 86.91767 7.2 \n\" clip-path=\"url(#p5d7c777efd)\" style=\"fill: none; stroke: #b0b0b0; stroke-width: 0.8; stroke-linecap: square\"/>\n     </g>\n     <g id=\"line2d_4\">\n      <g>\n       <use xlink:href=\"#m3b865be447\" x=\"86.91767\" y=\"273.312\" style=\"stroke: #000000; stroke-width: 0.8\"/>\n      </g>\n     </g>\n     <g id=\"text_2\">\n      <!-- −50 -->\n      <g transform=\"translate(76.365327 287.910437) scale(0.1 -0.1)\">\n       <defs>\n        <path id=\"DejaVuSans-35\" d=\"M 691 4666 \nL 3169 4666 \nL 3169 4134 \nL 1269 4134 \nL 1269 2991 \nQ 1406 3038 1543 3061 \nQ 1681 3084 1819 3084 \nQ 2600 3084 3056 2656 \nQ 3513 2228 3513 1497 \nQ 3513 744 3044 326 \nQ 2575 -91 1722 -91 \nQ 1428 -91 1123 -41 \nQ 819 9 494 109 \nL 494 744 \nQ 775 591 1075 516 \nQ 1375 441 1709 441 \nQ 2250 441 2565 725 \nQ 2881 1009 2881 1497 \nQ 2881 1984 2565 2268 \nQ 2250 2553 1709 2553 \nQ 1456 2553 1204 2497 \nQ 953 2441 691 2322 \nL 691 4666 \nz\n\" transform=\"scale(0.015625)\"/>\n       </defs>\n       <use xlink:href=\"#DejaVuSans-2212\"/>\n       <use xlink:href=\"#DejaVuSans-35\" transform=\"translate(83.789062 0)\"/>\n       <use xlink:href=\"#DejaVuSans-30\" transform=\"translate(147.412109 0)\"/>\n      </g>\n     </g>\n    </g>\n    <g id=\"xtick_3\">\n     <g id=\"line2d_5\">\n      <path d=\"M 127.499489 273.312 \nL 127.499489 7.2 \n\" clip-path=\"url(#p5d7c777efd)\" style=\"fill: none; stroke: #b0b0b0; stroke-width: 0.8; stroke-linecap: square\"/>\n     </g>\n     <g id=\"line2d_6\">\n      <g>\n       <use xlink:href=\"#m3b865be447\" x=\"127.499489\" y=\"273.312\" style=\"stroke: #000000; stroke-width: 0.8\"/>\n      </g>\n     </g>\n     <g id=\"text_3\">\n      <!-- 0 -->\n      <g transform=\"translate(124.318239 287.910437) scale(0.1 -0.1)\">\n       <use xlink:href=\"#DejaVuSans-30\"/>\n      </g>\n     </g>\n    </g>\n    <g id=\"xtick_4\">\n     <g id=\"line2d_7\">\n      <path d=\"M 168.081307 273.312 \nL 168.081307 7.2 \n\" clip-path=\"url(#p5d7c777efd)\" style=\"fill: none; stroke: #b0b0b0; stroke-width: 0.8; stroke-linecap: square\"/>\n     </g>\n     <g id=\"line2d_8\">\n      <g>\n       <use xlink:href=\"#m3b865be447\" x=\"168.081307\" y=\"273.312\" style=\"stroke: #000000; stroke-width: 0.8\"/>\n      </g>\n     </g>\n     <g id=\"text_4\">\n      <!-- 50 -->\n      <g transform=\"translate(161.718807 287.910437) scale(0.1 -0.1)\">\n       <use xlink:href=\"#DejaVuSans-35\"/>\n       <use xlink:href=\"#DejaVuSans-30\" transform=\"translate(63.623047 0)\"/>\n      </g>\n     </g>\n    </g>\n    <g id=\"xtick_5\">\n     <g id=\"line2d_9\">\n      <path d=\"M 208.663125 273.312 \nL 208.663125 7.2 \n\" clip-path=\"url(#p5d7c777efd)\" style=\"fill: none; stroke: #b0b0b0; stroke-width: 0.8; stroke-linecap: square\"/>\n     </g>\n     <g id=\"line2d_10\">\n      <g>\n       <use xlink:href=\"#m3b865be447\" x=\"208.663125\" y=\"273.312\" style=\"stroke: #000000; stroke-width: 0.8\"/>\n      </g>\n     </g>\n     <g id=\"text_5\">\n      <!-- 100 -->\n      <g transform=\"translate(199.119375 287.910437) scale(0.1 -0.1)\">\n       <use xlink:href=\"#DejaVuSans-31\"/>\n       <use xlink:href=\"#DejaVuSans-30\" transform=\"translate(63.623047 0)\"/>\n       <use xlink:href=\"#DejaVuSans-30\" transform=\"translate(127.246094 0)\"/>\n      </g>\n     </g>\n    </g>\n    <g id=\"xtick_6\">\n     <g id=\"line2d_11\">\n      <path d=\"M 249.244943 273.312 \nL 249.244943 7.2 \n\" clip-path=\"url(#p5d7c777efd)\" style=\"fill: none; stroke: #b0b0b0; stroke-width: 0.8; stroke-linecap: square\"/>\n     </g>\n     <g id=\"line2d_12\">\n      <g>\n       <use xlink:href=\"#m3b865be447\" x=\"249.244943\" y=\"273.312\" style=\"stroke: #000000; stroke-width: 0.8\"/>\n      </g>\n     </g>\n     <g id=\"text_6\">\n      <!-- 150 -->\n      <g transform=\"translate(239.701193 287.910437) scale(0.1 -0.1)\">\n       <use xlink:href=\"#DejaVuSans-31\"/>\n       <use xlink:href=\"#DejaVuSans-35\" transform=\"translate(63.623047 0)\"/>\n       <use xlink:href=\"#DejaVuSans-30\" transform=\"translate(127.246094 0)\"/>\n      </g>\n     </g>\n    </g>\n    <g id=\"xtick_7\">\n     <g id=\"line2d_13\">\n      <path d=\"M 289.826761 273.312 \nL 289.826761 7.2 \n\" clip-path=\"url(#p5d7c777efd)\" style=\"fill: none; stroke: #b0b0b0; stroke-width: 0.8; stroke-linecap: square\"/>\n     </g>\n     <g id=\"line2d_14\">\n      <g>\n       <use xlink:href=\"#m3b865be447\" x=\"289.826761\" y=\"273.312\" style=\"stroke: #000000; stroke-width: 0.8\"/>\n      </g>\n     </g>\n     <g id=\"text_7\">\n      <!-- 200 -->\n      <g transform=\"translate(280.283011 287.910437) scale(0.1 -0.1)\">\n       <defs>\n        <path id=\"DejaVuSans-32\" d=\"M 1228 531 \nL 3431 531 \nL 3431 0 \nL 469 0 \nL 469 531 \nQ 828 903 1448 1529 \nQ 2069 2156 2228 2338 \nQ 2531 2678 2651 2914 \nQ 2772 3150 2772 3378 \nQ 2772 3750 2511 3984 \nQ 2250 4219 1831 4219 \nQ 1534 4219 1204 4116 \nQ 875 4013 500 3803 \nL 500 4441 \nQ 881 4594 1212 4672 \nQ 1544 4750 1819 4750 \nQ 2544 4750 2975 4387 \nQ 3406 4025 3406 3419 \nQ 3406 3131 3298 2873 \nQ 3191 2616 2906 2266 \nQ 2828 2175 2409 1742 \nQ 1991 1309 1228 531 \nz\n\" transform=\"scale(0.015625)\"/>\n       </defs>\n       <use xlink:href=\"#DejaVuSans-32\"/>\n       <use xlink:href=\"#DejaVuSans-30\" transform=\"translate(63.623047 0)\"/>\n       <use xlink:href=\"#DejaVuSans-30\" transform=\"translate(127.246094 0)\"/>\n      </g>\n     </g>\n    </g>\n    <g id=\"xtick_8\">\n     <g id=\"line2d_15\">\n      <path d=\"M 330.40858 273.312 \nL 330.40858 7.2 \n\" clip-path=\"url(#p5d7c777efd)\" style=\"fill: none; stroke: #b0b0b0; stroke-width: 0.8; stroke-linecap: square\"/>\n     </g>\n     <g id=\"line2d_16\">\n      <g>\n       <use xlink:href=\"#m3b865be447\" x=\"330.40858\" y=\"273.312\" style=\"stroke: #000000; stroke-width: 0.8\"/>\n      </g>\n     </g>\n     <g id=\"text_8\">\n      <!-- 250 -->\n      <g transform=\"translate(320.86483 287.910437) scale(0.1 -0.1)\">\n       <use xlink:href=\"#DejaVuSans-32\"/>\n       <use xlink:href=\"#DejaVuSans-35\" transform=\"translate(63.623047 0)\"/>\n       <use xlink:href=\"#DejaVuSans-30\" transform=\"translate(127.246094 0)\"/>\n      </g>\n     </g>\n    </g>\n    <g id=\"xtick_9\">\n     <g id=\"line2d_17\">\n      <path d=\"M 370.990398 273.312 \nL 370.990398 7.2 \n\" clip-path=\"url(#p5d7c777efd)\" style=\"fill: none; stroke: #b0b0b0; stroke-width: 0.8; stroke-linecap: square\"/>\n     </g>\n     <g id=\"line2d_18\">\n      <g>\n       <use xlink:href=\"#m3b865be447\" x=\"370.990398\" y=\"273.312\" style=\"stroke: #000000; stroke-width: 0.8\"/>\n      </g>\n     </g>\n     <g id=\"text_9\">\n      <!-- 300 -->\n      <g transform=\"translate(361.446648 287.910437) scale(0.1 -0.1)\">\n       <defs>\n        <path id=\"DejaVuSans-33\" d=\"M 2597 2516 \nQ 3050 2419 3304 2112 \nQ 3559 1806 3559 1356 \nQ 3559 666 3084 287 \nQ 2609 -91 1734 -91 \nQ 1441 -91 1130 -33 \nQ 819 25 488 141 \nL 488 750 \nQ 750 597 1062 519 \nQ 1375 441 1716 441 \nQ 2309 441 2620 675 \nQ 2931 909 2931 1356 \nQ 2931 1769 2642 2001 \nQ 2353 2234 1838 2234 \nL 1294 2234 \nL 1294 2753 \nL 1863 2753 \nQ 2328 2753 2575 2939 \nQ 2822 3125 2822 3475 \nQ 2822 3834 2567 4026 \nQ 2313 4219 1838 4219 \nQ 1578 4219 1281 4162 \nQ 984 4106 628 3988 \nL 628 4550 \nQ 988 4650 1302 4700 \nQ 1616 4750 1894 4750 \nQ 2613 4750 3031 4423 \nQ 3450 4097 3450 3541 \nQ 3450 3153 3228 2886 \nQ 3006 2619 2597 2516 \nz\n\" transform=\"scale(0.015625)\"/>\n       </defs>\n       <use xlink:href=\"#DejaVuSans-33\"/>\n       <use xlink:href=\"#DejaVuSans-30\" transform=\"translate(63.623047 0)\"/>\n       <use xlink:href=\"#DejaVuSans-30\" transform=\"translate(127.246094 0)\"/>\n      </g>\n     </g>\n    </g>\n   </g>\n   <g id=\"matplotlib.axis_2\">\n    <g id=\"ytick_1\">\n     <g id=\"line2d_19\">\n      <path d=\"M 30.103125 261.216 \nL 387.223125 261.216 \n\" clip-path=\"url(#p5d7c777efd)\" style=\"fill: none; stroke: #b0b0b0; stroke-width: 0.8; stroke-linecap: square\"/>\n     </g>\n     <g id=\"line2d_20\">\n      <defs>\n       <path id=\"m187fefc71c\" d=\"M 0 0 \nL -3.5 0 \n\" style=\"stroke: #000000; stroke-width: 0.8\"/>\n      </defs>\n      <g>\n       <use xlink:href=\"#m187fefc71c\" x=\"30.103125\" y=\"261.216\" style=\"stroke: #000000; stroke-width: 0.8\"/>\n      </g>\n     </g>\n     <g id=\"text_10\">\n      <!-- 0.0 -->\n      <g transform=\"translate(7.2 265.015219) scale(0.1 -0.1)\">\n       <defs>\n        <path id=\"DejaVuSans-2e\" d=\"M 684 794 \nL 1344 794 \nL 1344 0 \nL 684 0 \nL 684 794 \nz\n\" transform=\"scale(0.015625)\"/>\n       </defs>\n       <use xlink:href=\"#DejaVuSans-30\"/>\n       <use xlink:href=\"#DejaVuSans-2e\" transform=\"translate(63.623047 0)\"/>\n       <use xlink:href=\"#DejaVuSans-30\" transform=\"translate(95.410156 0)\"/>\n      </g>\n     </g>\n    </g>\n    <g id=\"ytick_2\">\n     <g id=\"line2d_21\">\n      <path d=\"M 30.103125 212.832 \nL 387.223125 212.832 \n\" clip-path=\"url(#p5d7c777efd)\" style=\"fill: none; stroke: #b0b0b0; stroke-width: 0.8; stroke-linecap: square\"/>\n     </g>\n     <g id=\"line2d_22\">\n      <g>\n       <use xlink:href=\"#m187fefc71c\" x=\"30.103125\" y=\"212.832\" style=\"stroke: #000000; stroke-width: 0.8\"/>\n      </g>\n     </g>\n     <g id=\"text_11\">\n      <!-- 0.2 -->\n      <g transform=\"translate(7.2 216.631219) scale(0.1 -0.1)\">\n       <use xlink:href=\"#DejaVuSans-30\"/>\n       <use xlink:href=\"#DejaVuSans-2e\" transform=\"translate(63.623047 0)\"/>\n       <use xlink:href=\"#DejaVuSans-32\" transform=\"translate(95.410156 0)\"/>\n      </g>\n     </g>\n    </g>\n    <g id=\"ytick_3\">\n     <g id=\"line2d_23\">\n      <path d=\"M 30.103125 164.448 \nL 387.223125 164.448 \n\" clip-path=\"url(#p5d7c777efd)\" style=\"fill: none; stroke: #b0b0b0; stroke-width: 0.8; stroke-linecap: square\"/>\n     </g>\n     <g id=\"line2d_24\">\n      <g>\n       <use xlink:href=\"#m187fefc71c\" x=\"30.103125\" y=\"164.448\" style=\"stroke: #000000; stroke-width: 0.8\"/>\n      </g>\n     </g>\n     <g id=\"text_12\">\n      <!-- 0.4 -->\n      <g transform=\"translate(7.2 168.247219) scale(0.1 -0.1)\">\n       <defs>\n        <path id=\"DejaVuSans-34\" d=\"M 2419 4116 \nL 825 1625 \nL 2419 1625 \nL 2419 4116 \nz\nM 2253 4666 \nL 3047 4666 \nL 3047 1625 \nL 3713 1625 \nL 3713 1100 \nL 3047 1100 \nL 3047 0 \nL 2419 0 \nL 2419 1100 \nL 313 1100 \nL 313 1709 \nL 2253 4666 \nz\n\" transform=\"scale(0.015625)\"/>\n       </defs>\n       <use xlink:href=\"#DejaVuSans-30\"/>\n       <use xlink:href=\"#DejaVuSans-2e\" transform=\"translate(63.623047 0)\"/>\n       <use xlink:href=\"#DejaVuSans-34\" transform=\"translate(95.410156 0)\"/>\n      </g>\n     </g>\n    </g>\n    <g id=\"ytick_4\">\n     <g id=\"line2d_25\">\n      <path d=\"M 30.103125 116.064 \nL 387.223125 116.064 \n\" clip-path=\"url(#p5d7c777efd)\" style=\"fill: none; stroke: #b0b0b0; stroke-width: 0.8; stroke-linecap: square\"/>\n     </g>\n     <g id=\"line2d_26\">\n      <g>\n       <use xlink:href=\"#m187fefc71c\" x=\"30.103125\" y=\"116.064\" style=\"stroke: #000000; stroke-width: 0.8\"/>\n      </g>\n     </g>\n     <g id=\"text_13\">\n      <!-- 0.6 -->\n      <g transform=\"translate(7.2 119.863219) scale(0.1 -0.1)\">\n       <defs>\n        <path id=\"DejaVuSans-36\" d=\"M 2113 2584 \nQ 1688 2584 1439 2293 \nQ 1191 2003 1191 1497 \nQ 1191 994 1439 701 \nQ 1688 409 2113 409 \nQ 2538 409 2786 701 \nQ 3034 994 3034 1497 \nQ 3034 2003 2786 2293 \nQ 2538 2584 2113 2584 \nz\nM 3366 4563 \nL 3366 3988 \nQ 3128 4100 2886 4159 \nQ 2644 4219 2406 4219 \nQ 1781 4219 1451 3797 \nQ 1122 3375 1075 2522 \nQ 1259 2794 1537 2939 \nQ 1816 3084 2150 3084 \nQ 2853 3084 3261 2657 \nQ 3669 2231 3669 1497 \nQ 3669 778 3244 343 \nQ 2819 -91 2113 -91 \nQ 1303 -91 875 529 \nQ 447 1150 447 2328 \nQ 447 3434 972 4092 \nQ 1497 4750 2381 4750 \nQ 2619 4750 2861 4703 \nQ 3103 4656 3366 4563 \nz\n\" transform=\"scale(0.015625)\"/>\n       </defs>\n       <use xlink:href=\"#DejaVuSans-30\"/>\n       <use xlink:href=\"#DejaVuSans-2e\" transform=\"translate(63.623047 0)\"/>\n       <use xlink:href=\"#DejaVuSans-36\" transform=\"translate(95.410156 0)\"/>\n      </g>\n     </g>\n    </g>\n    <g id=\"ytick_5\">\n     <g id=\"line2d_27\">\n      <path d=\"M 30.103125 67.68 \nL 387.223125 67.68 \n\" clip-path=\"url(#p5d7c777efd)\" style=\"fill: none; stroke: #b0b0b0; stroke-width: 0.8; stroke-linecap: square\"/>\n     </g>\n     <g id=\"line2d_28\">\n      <g>\n       <use xlink:href=\"#m187fefc71c\" x=\"30.103125\" y=\"67.68\" style=\"stroke: #000000; stroke-width: 0.8\"/>\n      </g>\n     </g>\n     <g id=\"text_14\">\n      <!-- 0.8 -->\n      <g transform=\"translate(7.2 71.479219) scale(0.1 -0.1)\">\n       <defs>\n        <path id=\"DejaVuSans-38\" d=\"M 2034 2216 \nQ 1584 2216 1326 1975 \nQ 1069 1734 1069 1313 \nQ 1069 891 1326 650 \nQ 1584 409 2034 409 \nQ 2484 409 2743 651 \nQ 3003 894 3003 1313 \nQ 3003 1734 2745 1975 \nQ 2488 2216 2034 2216 \nz\nM 1403 2484 \nQ 997 2584 770 2862 \nQ 544 3141 544 3541 \nQ 544 4100 942 4425 \nQ 1341 4750 2034 4750 \nQ 2731 4750 3128 4425 \nQ 3525 4100 3525 3541 \nQ 3525 3141 3298 2862 \nQ 3072 2584 2669 2484 \nQ 3125 2378 3379 2068 \nQ 3634 1759 3634 1313 \nQ 3634 634 3220 271 \nQ 2806 -91 2034 -91 \nQ 1263 -91 848 271 \nQ 434 634 434 1313 \nQ 434 1759 690 2068 \nQ 947 2378 1403 2484 \nz\nM 1172 3481 \nQ 1172 3119 1398 2916 \nQ 1625 2713 2034 2713 \nQ 2441 2713 2670 2916 \nQ 2900 3119 2900 3481 \nQ 2900 3844 2670 4047 \nQ 2441 4250 2034 4250 \nQ 1625 4250 1398 4047 \nQ 1172 3844 1172 3481 \nz\n\" transform=\"scale(0.015625)\"/>\n       </defs>\n       <use xlink:href=\"#DejaVuSans-30\"/>\n       <use xlink:href=\"#DejaVuSans-2e\" transform=\"translate(63.623047 0)\"/>\n       <use xlink:href=\"#DejaVuSans-38\" transform=\"translate(95.410156 0)\"/>\n      </g>\n     </g>\n    </g>\n    <g id=\"ytick_6\">\n     <g id=\"line2d_29\">\n      <path d=\"M 30.103125 19.296 \nL 387.223125 19.296 \n\" clip-path=\"url(#p5d7c777efd)\" style=\"fill: none; stroke: #b0b0b0; stroke-width: 0.8; stroke-linecap: square\"/>\n     </g>\n     <g id=\"line2d_30\">\n      <g>\n       <use xlink:href=\"#m187fefc71c\" x=\"30.103125\" y=\"19.296\" style=\"stroke: #000000; stroke-width: 0.8\"/>\n      </g>\n     </g>\n     <g id=\"text_15\">\n      <!-- 1.0 -->\n      <g transform=\"translate(7.2 23.095219) scale(0.1 -0.1)\">\n       <use xlink:href=\"#DejaVuSans-31\"/>\n       <use xlink:href=\"#DejaVuSans-2e\" transform=\"translate(63.623047 0)\"/>\n       <use xlink:href=\"#DejaVuSans-30\" transform=\"translate(95.410156 0)\"/>\n      </g>\n     </g>\n    </g>\n   </g>\n   <g id=\"line2d_31\">\n    <path d=\"M 46.335852 261.215098 \nL 50.025108 261.215098 \nL 50.025108 261.208109 \nL 57.403621 261.208109 \nL 57.403621 261.159818 \nL 64.782133 261.159818 \nL 64.782133 260.890686 \nL 72.160646 260.890686 \nL 72.160646 259.683924 \nL 79.539158 259.683924 \nL 79.539158 255.347501 \nL 86.91767 255.347501 \nL 86.91767 242.933168 \nL 94.296183 242.933168 \nL 94.296183 214.889482 \nL 101.674695 214.889482 \nL 101.674695 165.741898 \nL 109.053208 165.741898 \nL 109.053208 101.182375 \nL 116.43172 101.182375 \nL 116.43172 43.040168 \nL 123.810232 43.040168 \nL 123.810232 19.296 \nL 131.188745 19.296 \nL 131.188745 43.040168 \nL 138.567257 43.040168 \nL 138.567257 101.182375 \nL 145.94577 101.182375 \nL 145.94577 165.741898 \nL 153.324282 165.741898 \nL 153.324282 214.889482 \nL 160.702794 214.889482 \nL 160.702794 242.933168 \nL 168.081307 242.933168 \nL 168.081307 255.347501 \nL 175.459819 255.347501 \nL 175.459819 259.683924 \nL 182.838332 259.683924 \nL 182.838332 260.890686 \nL 190.216844 260.890686 \nL 190.216844 261.159818 \nL 197.595356 261.159818 \nL 197.595356 261.208109 \nL 204.973869 261.208109 \nL 204.973869 261.215098 \nL 212.352381 261.215098 \nL 212.352381 261.215916 \nL 219.730894 261.215916 \nL 219.730894 261.215994 \nL 227.109406 261.215994 \nL 227.109406 261.216 \nL 234.487918 261.216 \nL 234.487918 261.216 \nL 241.866431 261.216 \nL 241.866431 261.216 \nL 249.244943 261.216 \nL 249.244943 261.216 \nL 256.623456 261.216 \nL 256.623456 261.216 \nL 264.001968 261.216 \nL 264.001968 261.216 \nL 271.38048 261.216 \nL 271.38048 261.216 \nL 278.758993 261.216 \nL 278.758993 261.216 \nL 286.137505 261.216 \nL 286.137505 261.216 \nL 293.516018 261.216 \nL 293.516018 261.216 \nL 300.89453 261.216 \nL 300.89453 261.216 \nL 308.273042 261.216 \nL 308.273042 261.216 \nL 315.651555 261.216 \nL 315.651555 261.216 \nL 323.030067 261.216 \nL 323.030067 261.216 \nL 330.40858 261.216 \nL 330.40858 261.216 \nL 337.787092 261.216 \nL 337.787092 261.216 \nL 345.165604 261.216 \nL 345.165604 261.216 \nL 352.544117 261.216 \nL 352.544117 261.216 \nL 359.922629 261.216 \nL 359.922629 261.216 \nL 367.301142 261.216 \nL 367.301142 261.216 \nL 370.990398 261.216 \n\" clip-path=\"url(#p5d7c777efd)\" style=\"fill: none; stroke: #1f77b4; stroke-width: 1.5; stroke-linecap: square\"/>\n   </g>\n   <g id=\"line2d_32\">\n    <path d=\"M 46.335852 261.216 \nL 50.025108 261.216 \nL 50.025108 261.216 \nL 57.403621 261.216 \nL 57.403621 261.216 \nL 64.782133 261.216 \nL 64.782133 261.216 \nL 72.160646 261.216 \nL 72.160646 261.216 \nL 79.539158 261.216 \nL 79.539158 261.216 \nL 86.91767 261.216 \nL 86.91767 261.216 \nL 94.296183 261.216 \nL 94.296183 261.216 \nL 101.674695 261.216 \nL 101.674695 261.216 \nL 109.053208 261.216 \nL 109.053208 261.216 \nL 116.43172 261.216 \nL 116.43172 261.216 \nL 123.810232 261.216 \nL 123.810232 261.216 \nL 131.188745 261.216 \nL 131.188745 261.216 \nL 138.567257 261.216 \nL 138.567257 261.216 \nL 145.94577 261.216 \nL 145.94577 261.216 \nL 153.324282 261.216 \nL 153.324282 261.216 \nL 160.702794 261.216 \nL 160.702794 261.216 \nL 168.081307 261.216 \nL 168.081307 261.216 \nL 175.459819 261.216 \nL 175.459819 261.216 \nL 182.838332 261.216 \nL 182.838332 261.216 \nL 190.216844 261.216 \nL 190.216844 261.215994 \nL 197.595356 261.215994 \nL 197.595356 261.215916 \nL 204.973869 261.215916 \nL 204.973869 261.215098 \nL 212.352381 261.215098 \nL 212.352381 261.208109 \nL 219.730894 261.208109 \nL 219.730894 261.159818 \nL 227.109406 261.159818 \nL 227.109406 260.890686 \nL 234.487918 260.890686 \nL 234.487918 259.683924 \nL 241.866431 259.683924 \nL 241.866431 255.347501 \nL 249.244943 255.347501 \nL 249.244943 242.933168 \nL 256.623456 242.933168 \nL 256.623456 214.889482 \nL 264.001968 214.889482 \nL 264.001968 165.741898 \nL 271.38048 165.741898 \nL 271.38048 101.182375 \nL 278.758993 101.182375 \nL 278.758993 43.040168 \nL 286.137505 43.040168 \nL 286.137505 19.296 \nL 293.516018 19.296 \nL 293.516018 43.040168 \nL 300.89453 43.040168 \nL 300.89453 101.182375 \nL 308.273042 101.182375 \nL 308.273042 165.741898 \nL 315.651555 165.741898 \nL 315.651555 214.889482 \nL 323.030067 214.889482 \nL 323.030067 242.933168 \nL 330.40858 242.933168 \nL 330.40858 255.347501 \nL 337.787092 255.347501 \nL 337.787092 259.683924 \nL 345.165604 259.683924 \nL 345.165604 260.890686 \nL 352.544117 260.890686 \nL 352.544117 261.159818 \nL 359.922629 261.159818 \nL 359.922629 261.208109 \nL 367.301142 261.208109 \nL 367.301142 261.215098 \nL 370.990398 261.215098 \n\" clip-path=\"url(#p5d7c777efd)\" style=\"fill: none; stroke: #ff7f0e; stroke-width: 1.5; stroke-linecap: square\"/>\n   </g>\n   <g id=\"line2d_33\">\n    <path d=\"M 46.335852 261.215098 \nL 50.025108 261.215098 \nL 50.025108 261.215098 \nL 57.403621 261.215098 \nL 57.403621 261.215098 \nL 64.782133 261.215098 \nL 64.782133 261.215098 \nL 72.160646 261.215098 \nL 72.160646 261.215098 \nL 79.539158 261.215098 \nL 79.539158 261.215098 \nL 86.91767 261.215098 \nL 86.91767 261.215098 \nL 94.296183 261.215098 \nL 94.296183 261.215098 \nL 101.674695 261.215098 \nL 101.674695 261.215096 \nL 109.053208 261.215096 \nL 109.053208 261.215085 \nL 116.43172 261.215085 \nL 116.43172 261.215039 \nL 123.810232 261.215039 \nL 123.810232 261.214855 \nL 131.188745 261.214855 \nL 131.188745 261.214193 \nL 138.567257 261.214193 \nL 138.567257 261.212013 \nL 145.94577 261.212013 \nL 145.94577 261.205431 \nL 153.324282 261.205431 \nL 153.324282 261.187131 \nL 160.702794 261.187131 \nL 160.702794 261.140143 \nL 168.081307 261.140143 \nL 168.081307 261.028406 \nL 175.459819 261.028406 \nL 175.459819 260.781726 \nL 182.838332 260.781726 \nL 182.838332 260.275088 \nL 190.216844 260.275088 \nL 190.216844 259.305346 \nL 197.595356 259.305346 \nL 197.595356 257.572986 \nL 204.973869 257.572986 \nL 204.973869 254.681515 \nL 212.352381 254.681515 \nL 212.352381 250.169269 \nL 219.730894 250.169269 \nL 219.730894 243.584622 \nL 227.109406 243.584622 \nL 227.109406 234.603767 \nL 234.487918 234.603767 \nL 234.487918 223.17196 \nL 241.866431 223.17196 \nL 241.866431 209.630543 \nL 249.244943 209.630543 \nL 249.244943 194.782285 \nL 256.623456 194.782285 \nL 256.623456 179.854564 \nL 264.001968 179.854564 \nL 264.001968 166.345483 \nL 271.38048 166.345483 \nL 271.38048 155.77529 \nL 278.758993 155.77529 \nL 278.758993 149.400539 \nL 286.137505 149.400539 \nL 286.137505 147.9665 \nL 293.516018 147.9665 \nL 293.516018 151.565584 \nL 300.89453 151.565584 \nL 300.89453 159.638285 \nL 308.273042 159.638285 \nL 308.273042 171.11017 \nL 315.651555 171.11017 \nL 315.651555 184.620236 \nL 323.030067 184.620236 \nL 323.030067 198.775637 \nL 330.40858 198.775637 \nL 330.40858 212.370138 \nL 337.787092 212.370138 \nL 337.787092 224.524342 \nL 345.165604 224.524342 \nL 345.165604 234.734464 \nL 352.544117 234.734464 \nL 352.544117 242.842203 \nL 359.922629 242.842203 \nL 359.922629 248.953935 \nL 367.301142 248.953935 \nL 367.301142 261.216 \nL 370.990398 261.216 \n\" clip-path=\"url(#p5d7c777efd)\" style=\"fill: none; stroke: #2ca02c; stroke-width: 1.5; stroke-linecap: square\"/>\n   </g>\n   <g id=\"line2d_34\">\n    <path d=\"M 46.335852 261.215098 \nL 50.025108 261.215098 \nL 50.025108 261.215098 \nL 57.403621 261.215098 \nL 57.403621 261.215099 \nL 64.782133 261.215099 \nL 64.782133 261.215098 \nL 72.160646 261.215098 \nL 72.160646 261.215098 \nL 79.539158 261.215098 \nL 79.539158 261.215098 \nL 86.91767 261.215098 \nL 86.91767 261.215101 \nL 94.296183 261.215101 \nL 94.296183 261.2151 \nL 101.674695 261.2151 \nL 101.674695 261.215092 \nL 109.053208 261.215092 \nL 109.053208 261.215091 \nL 116.43172 261.215091 \nL 116.43172 261.215111 \nL 123.810232 261.215111 \nL 123.810232 261.215128 \nL 131.188745 261.215128 \nL 131.188745 261.215092 \nL 138.567257 261.215092 \nL 138.567257 261.215019 \nL 145.94577 261.215019 \nL 145.94577 261.21504 \nL 153.324282 261.21504 \nL 153.324282 261.215231 \nL 160.702794 261.215231 \nL 160.702794 261.215423 \nL 168.081307 261.215423 \nL 168.081307 261.215175 \nL 175.459819 261.215175 \nL 175.459819 261.213741 \nL 182.838332 261.213741 \nL 182.838332 261.208284 \nL 190.216844 261.208284 \nL 190.216844 261.189303 \nL 197.595356 261.189303 \nL 197.595356 261.12844 \nL 204.973869 261.12844 \nL 204.973869 260.948763 \nL 212.352381 260.948763 \nL 212.352381 260.460522 \nL 219.730894 260.460522 \nL 219.730894 259.238399 \nL 227.109406 259.238399 \nL 227.109406 256.418144 \nL 234.487918 256.418144 \nL 234.487918 250.424074 \nL 241.866431 250.424074 \nL 241.866431 238.75387 \nL 249.244943 238.75387 \nL 249.244943 218.213245 \nL 256.623456 218.213245 \nL 256.623456 186.372402 \nL 264.001968 186.372402 \nL 264.001968 144.941647 \nL 271.38048 144.941647 \nL 271.38048 103.694056 \nL 278.758993 103.694056 \nL 278.758993 78.970819 \nL 286.137505 78.970819 \nL 286.137505 81.181375 \nL 293.516018 81.181375 \nL 293.516018 104.175955 \nL 300.89453 104.175955 \nL 300.89453 136.314325 \nL 308.273042 136.314325 \nL 308.273042 168.979611 \nL 315.651555 168.979611 \nL 315.651555 197.317948 \nL 323.030067 197.317948 \nL 323.030067 219.418999 \nL 330.40858 219.418999 \nL 330.40858 235.284093 \nL 337.787092 235.284093 \nL 337.787092 245.904543 \nL 345.165604 245.904543 \nL 345.165604 252.58983 \nL 352.544117 252.58983 \nL 352.544117 256.561109 \nL 359.922629 256.561109 \nL 359.922629 259.028863 \nL 367.301142 259.028863 \nL 367.301142 261.216 \nL 370.990398 261.216 \n\" clip-path=\"url(#p5d7c777efd)\" style=\"fill: none; stroke: #d62728; stroke-width: 1.5; stroke-linecap: square\"/>\n   </g>\n   <g id=\"patch_3\">\n    <path d=\"M 30.103125 273.312 \nL 30.103125 7.2 \n\" style=\"fill: none; stroke: #000000; stroke-width: 0.8; stroke-linejoin: miter; stroke-linecap: square\"/>\n   </g>\n   <g id=\"patch_4\">\n    <path d=\"M 387.223125 273.312 \nL 387.223125 7.2 \n\" style=\"fill: none; stroke: #000000; stroke-width: 0.8; stroke-linejoin: miter; stroke-linecap: square\"/>\n   </g>\n   <g id=\"patch_5\">\n    <path d=\"M 30.103125 273.312 \nL 387.223125 273.312 \n\" style=\"fill: none; stroke: #000000; stroke-width: 0.8; stroke-linejoin: miter; stroke-linecap: square\"/>\n   </g>\n   <g id=\"patch_6\">\n    <path d=\"M 30.103125 7.2 \nL 387.223125 7.2 \n\" style=\"fill: none; stroke: #000000; stroke-width: 0.8; stroke-linejoin: miter; stroke-linecap: square\"/>\n   </g>\n   <g id=\"legend_1\">\n    <g id=\"patch_7\">\n     <path d=\"M 306.855937 73.9125 \nL 380.223125 73.9125 \nQ 382.223125 73.9125 382.223125 71.9125 \nL 382.223125 14.2 \nQ 382.223125 12.2 380.223125 12.2 \nL 306.855937 12.2 \nQ 304.855937 12.2 304.855937 14.2 \nL 304.855937 71.9125 \nQ 304.855937 73.9125 306.855937 73.9125 \nz\n\" style=\"fill: #ffffff; opacity: 0.8; stroke: #cccccc; stroke-linejoin: miter\"/>\n    </g>\n    <g id=\"line2d_35\">\n     <path d=\"M 308.855937 20.298437 \nL 313.855937 20.298437 \nL 313.855937 20.298437 \nL 323.855937 20.298437 \nL 323.855937 20.298437 \nL 328.855937 20.298437 \n\" style=\"fill: none; stroke: #1f77b4; stroke-width: 1.5; stroke-linecap: square\"/>\n    </g>\n    <g id=\"text_16\">\n     <!-- initial -->\n     <g transform=\"translate(336.855937 23.798437) scale(0.1 -0.1)\">\n      <defs>\n       <path id=\"DejaVuSans-69\" d=\"M 603 3500 \nL 1178 3500 \nL 1178 0 \nL 603 0 \nL 603 3500 \nz\nM 603 4863 \nL 1178 4863 \nL 1178 4134 \nL 603 4134 \nL 603 4863 \nz\n\" transform=\"scale(0.015625)\"/>\n       <path id=\"DejaVuSans-6e\" d=\"M 3513 2113 \nL 3513 0 \nL 2938 0 \nL 2938 2094 \nQ 2938 2591 2744 2837 \nQ 2550 3084 2163 3084 \nQ 1697 3084 1428 2787 \nQ 1159 2491 1159 1978 \nL 1159 0 \nL 581 0 \nL 581 3500 \nL 1159 3500 \nL 1159 2956 \nQ 1366 3272 1645 3428 \nQ 1925 3584 2291 3584 \nQ 2894 3584 3203 3211 \nQ 3513 2838 3513 2113 \nz\n\" transform=\"scale(0.015625)\"/>\n       <path id=\"DejaVuSans-74\" d=\"M 1172 4494 \nL 1172 3500 \nL 2356 3500 \nL 2356 3053 \nL 1172 3053 \nL 1172 1153 \nQ 1172 725 1289 603 \nQ 1406 481 1766 481 \nL 2356 481 \nL 2356 0 \nL 1766 0 \nQ 1100 0 847 248 \nQ 594 497 594 1153 \nL 594 3053 \nL 172 3053 \nL 172 3500 \nL 594 3500 \nL 594 4494 \nL 1172 4494 \nz\n\" transform=\"scale(0.015625)\"/>\n       <path id=\"DejaVuSans-61\" d=\"M 2194 1759 \nQ 1497 1759 1228 1600 \nQ 959 1441 959 1056 \nQ 959 750 1161 570 \nQ 1363 391 1709 391 \nQ 2188 391 2477 730 \nQ 2766 1069 2766 1631 \nL 2766 1759 \nL 2194 1759 \nz\nM 3341 1997 \nL 3341 0 \nL 2766 0 \nL 2766 531 \nQ 2569 213 2275 61 \nQ 1981 -91 1556 -91 \nQ 1019 -91 701 211 \nQ 384 513 384 1019 \nQ 384 1609 779 1909 \nQ 1175 2209 1959 2209 \nL 2766 2209 \nL 2766 2266 \nQ 2766 2663 2505 2880 \nQ 2244 3097 1772 3097 \nQ 1472 3097 1187 3025 \nQ 903 2953 641 2809 \nL 641 3341 \nQ 956 3463 1253 3523 \nQ 1550 3584 1831 3584 \nQ 2591 3584 2966 3190 \nQ 3341 2797 3341 1997 \nz\n\" transform=\"scale(0.015625)\"/>\n       <path id=\"DejaVuSans-6c\" d=\"M 603 4863 \nL 1178 4863 \nL 1178 0 \nL 603 0 \nL 603 4863 \nz\n\" transform=\"scale(0.015625)\"/>\n      </defs>\n      <use xlink:href=\"#DejaVuSans-69\"/>\n      <use xlink:href=\"#DejaVuSans-6e\" transform=\"translate(27.783203 0)\"/>\n      <use xlink:href=\"#DejaVuSans-69\" transform=\"translate(91.162109 0)\"/>\n      <use xlink:href=\"#DejaVuSans-74\" transform=\"translate(118.945312 0)\"/>\n      <use xlink:href=\"#DejaVuSans-69\" transform=\"translate(158.154297 0)\"/>\n      <use xlink:href=\"#DejaVuSans-61\" transform=\"translate(185.9375 0)\"/>\n      <use xlink:href=\"#DejaVuSans-6c\" transform=\"translate(247.216797 0)\"/>\n     </g>\n    </g>\n    <g id=\"line2d_36\">\n     <path d=\"M 308.855937 34.976562 \nL 313.855937 34.976562 \nL 313.855937 34.976562 \nL 323.855937 34.976562 \nL 323.855937 34.976562 \nL 328.855937 34.976562 \n\" style=\"fill: none; stroke: #ff7f0e; stroke-width: 1.5; stroke-linecap: square\"/>\n    </g>\n    <g id=\"text_17\">\n     <!-- analytic -->\n     <g transform=\"translate(336.855937 38.476562) scale(0.1 -0.1)\">\n      <defs>\n       <path id=\"DejaVuSans-79\" d=\"M 2059 -325 \nQ 1816 -950 1584 -1140 \nQ 1353 -1331 966 -1331 \nL 506 -1331 \nL 506 -850 \nL 844 -850 \nQ 1081 -850 1212 -737 \nQ 1344 -625 1503 -206 \nL 1606 56 \nL 191 3500 \nL 800 3500 \nL 1894 763 \nL 2988 3500 \nL 3597 3500 \nL 2059 -325 \nz\n\" transform=\"scale(0.015625)\"/>\n       <path id=\"DejaVuSans-63\" d=\"M 3122 3366 \nL 3122 2828 \nQ 2878 2963 2633 3030 \nQ 2388 3097 2138 3097 \nQ 1578 3097 1268 2742 \nQ 959 2388 959 1747 \nQ 959 1106 1268 751 \nQ 1578 397 2138 397 \nQ 2388 397 2633 464 \nQ 2878 531 3122 666 \nL 3122 134 \nQ 2881 22 2623 -34 \nQ 2366 -91 2075 -91 \nQ 1284 -91 818 406 \nQ 353 903 353 1747 \nQ 353 2603 823 3093 \nQ 1294 3584 2113 3584 \nQ 2378 3584 2631 3529 \nQ 2884 3475 3122 3366 \nz\n\" transform=\"scale(0.015625)\"/>\n      </defs>\n      <use xlink:href=\"#DejaVuSans-61\"/>\n      <use xlink:href=\"#DejaVuSans-6e\" transform=\"translate(61.279297 0)\"/>\n      <use xlink:href=\"#DejaVuSans-61\" transform=\"translate(124.658203 0)\"/>\n      <use xlink:href=\"#DejaVuSans-6c\" transform=\"translate(185.9375 0)\"/>\n      <use xlink:href=\"#DejaVuSans-79\" transform=\"translate(213.720703 0)\"/>\n      <use xlink:href=\"#DejaVuSans-74\" transform=\"translate(272.900391 0)\"/>\n      <use xlink:href=\"#DejaVuSans-69\" transform=\"translate(312.109375 0)\"/>\n      <use xlink:href=\"#DejaVuSans-63\" transform=\"translate(339.892578 0)\"/>\n     </g>\n    </g>\n    <g id=\"line2d_37\">\n     <path d=\"M 308.855937 49.654687 \nL 313.855937 49.654687 \nL 313.855937 49.654687 \nL 323.855937 49.654687 \nL 323.855937 49.654687 \nL 328.855937 49.654687 \n\" style=\"fill: none; stroke: #2ca02c; stroke-width: 1.5; stroke-linecap: square\"/>\n    </g>\n    <g id=\"text_18\">\n     <!-- UPWIND -->\n     <g transform=\"translate(336.855937 53.154687) scale(0.1 -0.1)\">\n      <defs>\n       <path id=\"DejaVuSans-55\" d=\"M 556 4666 \nL 1191 4666 \nL 1191 1831 \nQ 1191 1081 1462 751 \nQ 1734 422 2344 422 \nQ 2950 422 3222 751 \nQ 3494 1081 3494 1831 \nL 3494 4666 \nL 4128 4666 \nL 4128 1753 \nQ 4128 841 3676 375 \nQ 3225 -91 2344 -91 \nQ 1459 -91 1007 375 \nQ 556 841 556 1753 \nL 556 4666 \nz\n\" transform=\"scale(0.015625)\"/>\n       <path id=\"DejaVuSans-50\" d=\"M 1259 4147 \nL 1259 2394 \nL 2053 2394 \nQ 2494 2394 2734 2622 \nQ 2975 2850 2975 3272 \nQ 2975 3691 2734 3919 \nQ 2494 4147 2053 4147 \nL 1259 4147 \nz\nM 628 4666 \nL 2053 4666 \nQ 2838 4666 3239 4311 \nQ 3641 3956 3641 3272 \nQ 3641 2581 3239 2228 \nQ 2838 1875 2053 1875 \nL 1259 1875 \nL 1259 0 \nL 628 0 \nL 628 4666 \nz\n\" transform=\"scale(0.015625)\"/>\n       <path id=\"DejaVuSans-57\" d=\"M 213 4666 \nL 850 4666 \nL 1831 722 \nL 2809 4666 \nL 3519 4666 \nL 4500 722 \nL 5478 4666 \nL 6119 4666 \nL 4947 0 \nL 4153 0 \nL 3169 4050 \nL 2175 0 \nL 1381 0 \nL 213 4666 \nz\n\" transform=\"scale(0.015625)\"/>\n       <path id=\"DejaVuSans-49\" d=\"M 628 4666 \nL 1259 4666 \nL 1259 0 \nL 628 0 \nL 628 4666 \nz\n\" transform=\"scale(0.015625)\"/>\n       <path id=\"DejaVuSans-4e\" d=\"M 628 4666 \nL 1478 4666 \nL 3547 763 \nL 3547 4666 \nL 4159 4666 \nL 4159 0 \nL 3309 0 \nL 1241 3903 \nL 1241 0 \nL 628 0 \nL 628 4666 \nz\n\" transform=\"scale(0.015625)\"/>\n       <path id=\"DejaVuSans-44\" d=\"M 1259 4147 \nL 1259 519 \nL 2022 519 \nQ 2988 519 3436 956 \nQ 3884 1394 3884 2338 \nQ 3884 3275 3436 3711 \nQ 2988 4147 2022 4147 \nL 1259 4147 \nz\nM 628 4666 \nL 1925 4666 \nQ 3281 4666 3915 4102 \nQ 4550 3538 4550 2338 \nQ 4550 1131 3912 565 \nQ 3275 0 1925 0 \nL 628 0 \nL 628 4666 \nz\n\" transform=\"scale(0.015625)\"/>\n      </defs>\n      <use xlink:href=\"#DejaVuSans-55\"/>\n      <use xlink:href=\"#DejaVuSans-50\" transform=\"translate(73.193359 0)\"/>\n      <use xlink:href=\"#DejaVuSans-57\" transform=\"translate(133.496094 0)\"/>\n      <use xlink:href=\"#DejaVuSans-49\" transform=\"translate(232.373047 0)\"/>\n      <use xlink:href=\"#DejaVuSans-4e\" transform=\"translate(261.865234 0)\"/>\n      <use xlink:href=\"#DejaVuSans-44\" transform=\"translate(336.669922 0)\"/>\n     </g>\n    </g>\n    <g id=\"line2d_38\">\n     <path d=\"M 308.855937 64.332812 \nL 313.855937 64.332812 \nL 313.855937 64.332812 \nL 323.855937 64.332812 \nL 323.855937 64.332812 \nL 328.855937 64.332812 \n\" style=\"fill: none; stroke: #d62728; stroke-width: 1.5; stroke-linecap: square\"/>\n    </g>\n    <g id=\"text_19\">\n     <!-- MPDATA -->\n     <g transform=\"translate(336.855937 67.832812) scale(0.1 -0.1)\">\n      <defs>\n       <path id=\"DejaVuSans-4d\" d=\"M 628 4666 \nL 1569 4666 \nL 2759 1491 \nL 3956 4666 \nL 4897 4666 \nL 4897 0 \nL 4281 0 \nL 4281 4097 \nL 3078 897 \nL 2444 897 \nL 1241 4097 \nL 1241 0 \nL 628 0 \nL 628 4666 \nz\n\" transform=\"scale(0.015625)\"/>\n       <path id=\"DejaVuSans-41\" d=\"M 2188 4044 \nL 1331 1722 \nL 3047 1722 \nL 2188 4044 \nz\nM 1831 4666 \nL 2547 4666 \nL 4325 0 \nL 3669 0 \nL 3244 1197 \nL 1141 1197 \nL 716 0 \nL 50 0 \nL 1831 4666 \nz\n\" transform=\"scale(0.015625)\"/>\n       <path id=\"DejaVuSans-54\" d=\"M -19 4666 \nL 3928 4666 \nL 3928 4134 \nL 2272 4134 \nL 2272 0 \nL 1638 0 \nL 1638 4134 \nL -19 4134 \nL -19 4666 \nz\n\" transform=\"scale(0.015625)\"/>\n      </defs>\n      <use xlink:href=\"#DejaVuSans-4d\"/>\n      <use xlink:href=\"#DejaVuSans-50\" transform=\"translate(86.279297 0)\"/>\n      <use xlink:href=\"#DejaVuSans-44\" transform=\"translate(146.582031 0)\"/>\n      <use xlink:href=\"#DejaVuSans-41\" transform=\"translate(221.833984 0)\"/>\n      <use xlink:href=\"#DejaVuSans-54\" transform=\"translate(282.492188 0)\"/>\n      <use xlink:href=\"#DejaVuSans-41\" transform=\"translate(335.826172 0)\"/>\n     </g>\n    </g>\n   </g>\n  </g>\n </g>\n <defs>\n  <clipPath id=\"p5d7c777efd\">\n   <rect x=\"30.103125\" y=\"7.2\" width=\"357.12\" height=\"266.112\"/>\n  </clipPath>\n </defs>\n</svg>\n"
          },
          "metadata": {}
        },
        {
          "output_type": "display_data",
          "data": {
            "text/plain": [
              "HBox(children=(Button(description='tmptbi8tdhs.pdf', style=ButtonStyle()), Button(description='tmpw8pifghz.svg…"
            ],
            "application/vnd.jupyter.widget-view+json": {
              "version_major": 2,
              "version_minor": 0,
              "model_id": "592bc8e309924ccf83407d369af16158"
            }
          },
          "metadata": {}
        }
      ],
      "source": [
        "plot(\n",
        "    x=x,\n",
        "    initial=psi_0(x),\n",
        "    analytic=psi_0(x-u*t_max),\n",
        "    UPWIND=solve_upwind(nt=nt, C=np.full(nx-1, u * dt / dx), psi=psi_0(x)),\n",
        "    MPDATA=solve_mpdata(nt=nt, C=np.full(nx-1, u * dt / dx), psi=psi_0(x))\n",
        ")"
      ]
    },
    {
      "cell_type": "code",
      "execution_count": null,
      "id": "2a8ff43f-6654-458e-98a9-2b21b832fff8",
      "metadata": {
        "id": "2a8ff43f-6654-458e-98a9-2b21b832fff8"
      },
      "outputs": [],
      "source": [
        "# correction step n\n",
        "def solve_mpdata_corrected(*, nt: int, C: float, psi: np.ndarray, number_of_corrections):\n",
        "    i_ext = slice(1, len(psi))\n",
        "    for _ in range(nt):\n",
        "        upwind(psi, slice(1, len(C)), C)\n",
        "\n",
        "        # corrective pass with anti-step velocity\n",
        "        upwind(psi, slice(1, len(C)), corrective_C(C, i_ext, psi))\n",
        "\n",
        "        # correction for correction\n",
        "        # TODO #1\n",
        "\n",
        "    return psi"
      ]
    },
    {
      "cell_type": "code",
      "source": [],
      "metadata": {
        "id": "uZKNYV9TF8w9"
      },
      "id": "uZKNYV9TF8w9",
      "execution_count": null,
      "outputs": []
    }
  ],
  "metadata": {
    "kernelspec": {
      "display_name": "Python 3 (ipykernel)",
      "language": "python",
      "name": "python3"
    },
    "language_info": {
      "codemirror_mode": {
        "name": "ipython",
        "version": 3
      },
      "file_extension": ".py",
      "mimetype": "text/x-python",
      "name": "python",
      "nbconvert_exporter": "python",
      "pygments_lexer": "ipython3",
      "version": "3.9.2"
    },
    "colab": {
      "provenance": []
    },
    "widgets": {
      "application/vnd.jupyter.widget-state+json": {
        "17269371e6174e02a69e16b9a99b2c18": {
          "model_module": "@jupyter-widgets/controls",
          "model_name": "HBoxModel",
          "model_module_version": "1.5.0",
          "state": {
            "_dom_classes": [],
            "_model_module": "@jupyter-widgets/controls",
            "_model_module_version": "1.5.0",
            "_model_name": "HBoxModel",
            "_view_count": null,
            "_view_module": "@jupyter-widgets/controls",
            "_view_module_version": "1.5.0",
            "_view_name": "HBoxView",
            "box_style": "",
            "children": [
              "IPY_MODEL_d0549fbdfed14dc2aa238708d774afb4",
              "IPY_MODEL_fd01b4b0e34543deae88ddbed8b7f410"
            ],
            "layout": "IPY_MODEL_d950a3f8ba124f98ab64052f612a9b7d"
          }
        },
        "d0549fbdfed14dc2aa238708d774afb4": {
          "model_module": "@jupyter-widgets/controls",
          "model_name": "ButtonModel",
          "model_module_version": "1.5.0",
          "state": {
            "_dom_classes": [],
            "_model_module": "@jupyter-widgets/controls",
            "_model_module_version": "1.5.0",
            "_model_name": "ButtonModel",
            "_view_count": null,
            "_view_module": "@jupyter-widgets/controls",
            "_view_module_version": "1.5.0",
            "_view_name": "ButtonView",
            "button_style": "",
            "description": "tmp6qkcxkwc.pdf",
            "disabled": false,
            "icon": "",
            "layout": "IPY_MODEL_d03ed533b1504ea8a145bd6ee4ec7050",
            "style": "IPY_MODEL_8b2a36ab5382469489c4cca3170c6e1c",
            "tooltip": ""
          }
        },
        "fd01b4b0e34543deae88ddbed8b7f410": {
          "model_module": "@jupyter-widgets/controls",
          "model_name": "ButtonModel",
          "model_module_version": "1.5.0",
          "state": {
            "_dom_classes": [],
            "_model_module": "@jupyter-widgets/controls",
            "_model_module_version": "1.5.0",
            "_model_name": "ButtonModel",
            "_view_count": null,
            "_view_module": "@jupyter-widgets/controls",
            "_view_module_version": "1.5.0",
            "_view_name": "ButtonView",
            "button_style": "",
            "description": "tmptmsn4y3t.svg",
            "disabled": false,
            "icon": "",
            "layout": "IPY_MODEL_9c936b47aba84210b60fc578015993c2",
            "style": "IPY_MODEL_0073f826e68f4a1ab9a4563369fbc1c0",
            "tooltip": ""
          }
        },
        "d950a3f8ba124f98ab64052f612a9b7d": {
          "model_module": "@jupyter-widgets/base",
          "model_name": "LayoutModel",
          "model_module_version": "1.2.0",
          "state": {
            "_model_module": "@jupyter-widgets/base",
            "_model_module_version": "1.2.0",
            "_model_name": "LayoutModel",
            "_view_count": null,
            "_view_module": "@jupyter-widgets/base",
            "_view_module_version": "1.2.0",
            "_view_name": "LayoutView",
            "align_content": null,
            "align_items": null,
            "align_self": null,
            "border": null,
            "bottom": null,
            "display": null,
            "flex": null,
            "flex_flow": null,
            "grid_area": null,
            "grid_auto_columns": null,
            "grid_auto_flow": null,
            "grid_auto_rows": null,
            "grid_column": null,
            "grid_gap": null,
            "grid_row": null,
            "grid_template_areas": null,
            "grid_template_columns": null,
            "grid_template_rows": null,
            "height": null,
            "justify_content": null,
            "justify_items": null,
            "left": null,
            "margin": null,
            "max_height": null,
            "max_width": null,
            "min_height": null,
            "min_width": null,
            "object_fit": null,
            "object_position": null,
            "order": null,
            "overflow": null,
            "overflow_x": null,
            "overflow_y": null,
            "padding": null,
            "right": null,
            "top": null,
            "visibility": null,
            "width": null
          }
        },
        "d03ed533b1504ea8a145bd6ee4ec7050": {
          "model_module": "@jupyter-widgets/base",
          "model_name": "LayoutModel",
          "model_module_version": "1.2.0",
          "state": {
            "_model_module": "@jupyter-widgets/base",
            "_model_module_version": "1.2.0",
            "_model_name": "LayoutModel",
            "_view_count": null,
            "_view_module": "@jupyter-widgets/base",
            "_view_module_version": "1.2.0",
            "_view_name": "LayoutView",
            "align_content": null,
            "align_items": null,
            "align_self": null,
            "border": null,
            "bottom": null,
            "display": null,
            "flex": null,
            "flex_flow": null,
            "grid_area": null,
            "grid_auto_columns": null,
            "grid_auto_flow": null,
            "grid_auto_rows": null,
            "grid_column": null,
            "grid_gap": null,
            "grid_row": null,
            "grid_template_areas": null,
            "grid_template_columns": null,
            "grid_template_rows": null,
            "height": null,
            "justify_content": null,
            "justify_items": null,
            "left": null,
            "margin": null,
            "max_height": null,
            "max_width": null,
            "min_height": null,
            "min_width": null,
            "object_fit": null,
            "object_position": null,
            "order": null,
            "overflow": null,
            "overflow_x": null,
            "overflow_y": null,
            "padding": null,
            "right": null,
            "top": null,
            "visibility": null,
            "width": null
          }
        },
        "8b2a36ab5382469489c4cca3170c6e1c": {
          "model_module": "@jupyter-widgets/controls",
          "model_name": "ButtonStyleModel",
          "model_module_version": "1.5.0",
          "state": {
            "_model_module": "@jupyter-widgets/controls",
            "_model_module_version": "1.5.0",
            "_model_name": "ButtonStyleModel",
            "_view_count": null,
            "_view_module": "@jupyter-widgets/base",
            "_view_module_version": "1.2.0",
            "_view_name": "StyleView",
            "button_color": null,
            "font_weight": ""
          }
        },
        "9c936b47aba84210b60fc578015993c2": {
          "model_module": "@jupyter-widgets/base",
          "model_name": "LayoutModel",
          "model_module_version": "1.2.0",
          "state": {
            "_model_module": "@jupyter-widgets/base",
            "_model_module_version": "1.2.0",
            "_model_name": "LayoutModel",
            "_view_count": null,
            "_view_module": "@jupyter-widgets/base",
            "_view_module_version": "1.2.0",
            "_view_name": "LayoutView",
            "align_content": null,
            "align_items": null,
            "align_self": null,
            "border": null,
            "bottom": null,
            "display": null,
            "flex": null,
            "flex_flow": null,
            "grid_area": null,
            "grid_auto_columns": null,
            "grid_auto_flow": null,
            "grid_auto_rows": null,
            "grid_column": null,
            "grid_gap": null,
            "grid_row": null,
            "grid_template_areas": null,
            "grid_template_columns": null,
            "grid_template_rows": null,
            "height": null,
            "justify_content": null,
            "justify_items": null,
            "left": null,
            "margin": null,
            "max_height": null,
            "max_width": null,
            "min_height": null,
            "min_width": null,
            "object_fit": null,
            "object_position": null,
            "order": null,
            "overflow": null,
            "overflow_x": null,
            "overflow_y": null,
            "padding": null,
            "right": null,
            "top": null,
            "visibility": null,
            "width": null
          }
        },
        "0073f826e68f4a1ab9a4563369fbc1c0": {
          "model_module": "@jupyter-widgets/controls",
          "model_name": "ButtonStyleModel",
          "model_module_version": "1.5.0",
          "state": {
            "_model_module": "@jupyter-widgets/controls",
            "_model_module_version": "1.5.0",
            "_model_name": "ButtonStyleModel",
            "_view_count": null,
            "_view_module": "@jupyter-widgets/base",
            "_view_module_version": "1.2.0",
            "_view_name": "StyleView",
            "button_color": null,
            "font_weight": ""
          }
        },
        "592bc8e309924ccf83407d369af16158": {
          "model_module": "@jupyter-widgets/controls",
          "model_name": "HBoxModel",
          "model_module_version": "1.5.0",
          "state": {
            "_dom_classes": [],
            "_model_module": "@jupyter-widgets/controls",
            "_model_module_version": "1.5.0",
            "_model_name": "HBoxModel",
            "_view_count": null,
            "_view_module": "@jupyter-widgets/controls",
            "_view_module_version": "1.5.0",
            "_view_name": "HBoxView",
            "box_style": "",
            "children": [
              "IPY_MODEL_af49498c6ed44a91aee004d21bc9a181",
              "IPY_MODEL_ca4231b1aa40498f8b654d2b9690bf6e"
            ],
            "layout": "IPY_MODEL_bec46e7bc82244488bd428da6429c1c0"
          }
        },
        "af49498c6ed44a91aee004d21bc9a181": {
          "model_module": "@jupyter-widgets/controls",
          "model_name": "ButtonModel",
          "model_module_version": "1.5.0",
          "state": {
            "_dom_classes": [],
            "_model_module": "@jupyter-widgets/controls",
            "_model_module_version": "1.5.0",
            "_model_name": "ButtonModel",
            "_view_count": null,
            "_view_module": "@jupyter-widgets/controls",
            "_view_module_version": "1.5.0",
            "_view_name": "ButtonView",
            "button_style": "",
            "description": "tmptbi8tdhs.pdf",
            "disabled": false,
            "icon": "",
            "layout": "IPY_MODEL_544b94a6538a4f46bffd9ed680b8f030",
            "style": "IPY_MODEL_55ef70fc012240e9a1cc0fa45d3f8135",
            "tooltip": ""
          }
        },
        "ca4231b1aa40498f8b654d2b9690bf6e": {
          "model_module": "@jupyter-widgets/controls",
          "model_name": "ButtonModel",
          "model_module_version": "1.5.0",
          "state": {
            "_dom_classes": [],
            "_model_module": "@jupyter-widgets/controls",
            "_model_module_version": "1.5.0",
            "_model_name": "ButtonModel",
            "_view_count": null,
            "_view_module": "@jupyter-widgets/controls",
            "_view_module_version": "1.5.0",
            "_view_name": "ButtonView",
            "button_style": "",
            "description": "tmpw8pifghz.svg",
            "disabled": false,
            "icon": "",
            "layout": "IPY_MODEL_a6ad8720b04f452b89a035ae59f90589",
            "style": "IPY_MODEL_aa1b72ee1d284851b1561004b1e1990e",
            "tooltip": ""
          }
        },
        "bec46e7bc82244488bd428da6429c1c0": {
          "model_module": "@jupyter-widgets/base",
          "model_name": "LayoutModel",
          "model_module_version": "1.2.0",
          "state": {
            "_model_module": "@jupyter-widgets/base",
            "_model_module_version": "1.2.0",
            "_model_name": "LayoutModel",
            "_view_count": null,
            "_view_module": "@jupyter-widgets/base",
            "_view_module_version": "1.2.0",
            "_view_name": "LayoutView",
            "align_content": null,
            "align_items": null,
            "align_self": null,
            "border": null,
            "bottom": null,
            "display": null,
            "flex": null,
            "flex_flow": null,
            "grid_area": null,
            "grid_auto_columns": null,
            "grid_auto_flow": null,
            "grid_auto_rows": null,
            "grid_column": null,
            "grid_gap": null,
            "grid_row": null,
            "grid_template_areas": null,
            "grid_template_columns": null,
            "grid_template_rows": null,
            "height": null,
            "justify_content": null,
            "justify_items": null,
            "left": null,
            "margin": null,
            "max_height": null,
            "max_width": null,
            "min_height": null,
            "min_width": null,
            "object_fit": null,
            "object_position": null,
            "order": null,
            "overflow": null,
            "overflow_x": null,
            "overflow_y": null,
            "padding": null,
            "right": null,
            "top": null,
            "visibility": null,
            "width": null
          }
        },
        "544b94a6538a4f46bffd9ed680b8f030": {
          "model_module": "@jupyter-widgets/base",
          "model_name": "LayoutModel",
          "model_module_version": "1.2.0",
          "state": {
            "_model_module": "@jupyter-widgets/base",
            "_model_module_version": "1.2.0",
            "_model_name": "LayoutModel",
            "_view_count": null,
            "_view_module": "@jupyter-widgets/base",
            "_view_module_version": "1.2.0",
            "_view_name": "LayoutView",
            "align_content": null,
            "align_items": null,
            "align_self": null,
            "border": null,
            "bottom": null,
            "display": null,
            "flex": null,
            "flex_flow": null,
            "grid_area": null,
            "grid_auto_columns": null,
            "grid_auto_flow": null,
            "grid_auto_rows": null,
            "grid_column": null,
            "grid_gap": null,
            "grid_row": null,
            "grid_template_areas": null,
            "grid_template_columns": null,
            "grid_template_rows": null,
            "height": null,
            "justify_content": null,
            "justify_items": null,
            "left": null,
            "margin": null,
            "max_height": null,
            "max_width": null,
            "min_height": null,
            "min_width": null,
            "object_fit": null,
            "object_position": null,
            "order": null,
            "overflow": null,
            "overflow_x": null,
            "overflow_y": null,
            "padding": null,
            "right": null,
            "top": null,
            "visibility": null,
            "width": null
          }
        },
        "55ef70fc012240e9a1cc0fa45d3f8135": {
          "model_module": "@jupyter-widgets/controls",
          "model_name": "ButtonStyleModel",
          "model_module_version": "1.5.0",
          "state": {
            "_model_module": "@jupyter-widgets/controls",
            "_model_module_version": "1.5.0",
            "_model_name": "ButtonStyleModel",
            "_view_count": null,
            "_view_module": "@jupyter-widgets/base",
            "_view_module_version": "1.2.0",
            "_view_name": "StyleView",
            "button_color": null,
            "font_weight": ""
          }
        },
        "a6ad8720b04f452b89a035ae59f90589": {
          "model_module": "@jupyter-widgets/base",
          "model_name": "LayoutModel",
          "model_module_version": "1.2.0",
          "state": {
            "_model_module": "@jupyter-widgets/base",
            "_model_module_version": "1.2.0",
            "_model_name": "LayoutModel",
            "_view_count": null,
            "_view_module": "@jupyter-widgets/base",
            "_view_module_version": "1.2.0",
            "_view_name": "LayoutView",
            "align_content": null,
            "align_items": null,
            "align_self": null,
            "border": null,
            "bottom": null,
            "display": null,
            "flex": null,
            "flex_flow": null,
            "grid_area": null,
            "grid_auto_columns": null,
            "grid_auto_flow": null,
            "grid_auto_rows": null,
            "grid_column": null,
            "grid_gap": null,
            "grid_row": null,
            "grid_template_areas": null,
            "grid_template_columns": null,
            "grid_template_rows": null,
            "height": null,
            "justify_content": null,
            "justify_items": null,
            "left": null,
            "margin": null,
            "max_height": null,
            "max_width": null,
            "min_height": null,
            "min_width": null,
            "object_fit": null,
            "object_position": null,
            "order": null,
            "overflow": null,
            "overflow_x": null,
            "overflow_y": null,
            "padding": null,
            "right": null,
            "top": null,
            "visibility": null,
            "width": null
          }
        },
        "aa1b72ee1d284851b1561004b1e1990e": {
          "model_module": "@jupyter-widgets/controls",
          "model_name": "ButtonStyleModel",
          "model_module_version": "1.5.0",
          "state": {
            "_model_module": "@jupyter-widgets/controls",
            "_model_module_version": "1.5.0",
            "_model_name": "ButtonStyleModel",
            "_view_count": null,
            "_view_module": "@jupyter-widgets/base",
            "_view_module_version": "1.2.0",
            "_view_name": "StyleView",
            "button_color": null,
            "font_weight": ""
          }
        }
      }
    }
  },
  "nbformat": 4,
  "nbformat_minor": 5
}
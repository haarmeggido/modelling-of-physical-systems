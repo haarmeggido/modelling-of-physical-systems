{
 "cells": [
  {
   "cell_type": "markdown",
   "metadata": {},
   "source": [
    "# Modelling of physical systems\n",
    "\n",
    "## First Assignment\n",
    "\n",
    "### Miłosz Góralczyk"
   ]
  },
  {
   "cell_type": "markdown",
   "metadata": {},
   "source": [
    "The implemented physical models describes the effects of Advection-Diffusion Equation, describes the transport of a scalar property, such as temperature or salinity, through a combination of advection and diffusion processes in a fluid medium.\n",
    "\n",
    "The model can be presented by an equation:\n",
    "\n",
    "$$\n",
    "\\frac{\\partial c}{\\partial t} + U \\frac{\\partial c}{\\partial x} - D \\frac{\\partial^2 c}{\\partial^2 x} = 0\n",
    "$$\n",
    "\n",
    "$\\frac{\\partial c}{\\partial t}$​ Time Derivative - Represents the rate of change of concentration over time.\n",
    "\n",
    "$U \\frac{\\partial c}{\\partial x}$ Advection Term - Describes the transport of concentration due to a uniform velocity *U*.\n",
    "\n",
    "$D \\frac{\\partial^2 c}{\\partial^2 x}$​ Diffusion Term - Models the spreading of the substance due to diffusion, governed by the diffusivity *D*.\n",
    "\n",
    "The sum of time evolution, advection, and diffusion effects must balance. ($ = 0$)"
   ]
  },
  {
   "cell_type": "markdown",
   "metadata": {},
   "source": [
    "The equation itself was already modelled on the previous laboratory, and it has been proven to correctly model the phenomena.\n",
    "\n",
    "In this assignment, I'm going to model how the *Intensity* of the observed concentration - that being heat, solvent, an odor - changes over time *in one observed place*\n",
    "\n",
    "Basically, it's going to answer the question - if we placed a stationary sensor in the distance X on the path of the transported property - how would its reading look like over time?\n",
    "\n",
    "The equation itself:\n",
    "\n",
    "$$\n",
    "c(x, t) = \\frac{M}{A}\\frac{1}{2\\sqrt{\\pi D}}\\frac{x}{t^\\frac{3}{2}}e^{\\Bigg( -\\frac{(ut - x)^2}{4Dt} \\Bigg)}\n",
    "$$\n",
    "\n",
    "models the movement of flow of a substance through an one-dimentional medium. The meaningful symbols here being:\n",
    "\n",
    "Constants\n",
    "- $M$ - mass of the substance, unit $[kg]$\n",
    "- $A$ - volumetric flow rate, unit $[\\frac{m^3}{s}]$\n",
    "- $D$ - diffusion coefficient, unit $[\\frac{m^2}{s}]$\n",
    "- $u$ - speed of the medium, unit $[\\frac{m}{s}]$\n",
    "\n",
    "Variables\n",
    "- $x$ - lenght of the medium, unit $[m]$\n",
    "- $t$ - time passed, unit $[s]$\n",
    "\n",
    "giving us finally...\n",
    "\n",
    "- $c(x, t)$ - concentration of the property at a given point at a given time, unit $[\\frac{kg}{m^3}]$,\n",
    "\n",
    "\n"
   ]
  },
  {
   "cell_type": "markdown",
   "metadata": {},
   "source": [
    "I could assume that here, what is being modelled is a distribution over time of some isotope in the air, moving to the right because of the wind, while also diffusing itself slowly.\n",
    "\n",
    "The isotope is detected at some positions by a stationary sensors, that save the readings of the observed concentration as a continous time/value pairs\n",
    "\n",
    "Of course the assumption is, all the mass of the isotope remains on the 1D space - no substance leaks out to the right/left."
   ]
  },
  {
   "cell_type": "markdown",
   "metadata": {},
   "source": [
    "## The Code"
   ]
  },
  {
   "cell_type": "code",
   "execution_count": null,
   "metadata": {},
   "outputs": [],
   "source": [
    "# Imports\n",
    "\n",
    "import pint\n",
    "import numpy as np\n",
    "import scipy\n",
    "from matplotlib import pyplot\n",
    "import open_atmos_jupyter_utils"
   ]
  },
  {
   "cell_type": "code",
   "execution_count": null,
   "metadata": {},
   "outputs": [],
   "source": [
    "# pint si unit initialization\n",
    "\n",
    "si = pint.UnitRegistry()\n",
    "si.setup_matplotlib()"
   ]
  },
  {
   "cell_type": "code",
   "execution_count": null,
   "metadata": {},
   "outputs": [],
   "source": [
    "# Function to define concentration distribution\n",
    "\n",
    "def concentration_function(mass, area, diffusivity, velocity):\n",
    "    def c(x, t) :\n",
    "        return (\n",
    "            (mass * x * np.exp(-((velocity * t - x) ** 2) / (4 * diffusivity * t)))\n",
    "            / (2 * area * (np.pi * diffusivity) ** 0.5 * t ** 1.5)\n",
    "        )\n",
    "    return c"
   ]
  },
  {
   "cell_type": "code",
   "execution_count": null,
   "metadata": {},
   "outputs": [],
   "source": [
    "# Function to generate concentration function with fixed x value\n",
    "\n",
    "def concentration_at_x(c_func, x: np.ndarray):\n",
    "    return lambda t: c_func(x, t)"
   ]
  },
  {
   "cell_type": "code",
   "execution_count": null,
   "metadata": {},
   "outputs": [],
   "source": [
    "# Define constants with appropriate units\n",
    "\n",
    "MASS = np.float64(5.3) * si.kg\n",
    "AREA = np.float64(5) * si.m ** -3 / si.s\n",
    "DIFFUSIVITY = np.float64(0.00003) * si.m ** 2 / si.s\n",
    "VELOCITY = np.float64(0.0056) * si.m / si.s\n"
   ]
  },
  {
   "cell_type": "code",
   "execution_count": null,
   "metadata": {},
   "outputs": [],
   "source": [
    "# Generate time array\n",
    "\n",
    "TIME = np.linspace(0.1, 100.1, 1000, dtype=np.float64) * si.s"
   ]
  },
  {
   "cell_type": "code",
   "execution_count": null,
   "metadata": {},
   "outputs": [],
   "source": [
    "# Create the fixed position\n",
    "\n",
    "X_POS1 = np.float64(0.15) * si.m\n",
    "X_POS2 = np.float64(0.35) * si.m"
   ]
  },
  {
   "cell_type": "code",
   "execution_count": null,
   "metadata": {},
   "outputs": [],
   "source": [
    "# Compute concentration values for two fixed positions\n",
    "\n",
    "concentration = concentration_function(MASS, AREA, DIFFUSIVITY, VELOCITY)\n",
    "\n",
    "concentration_fixed_x_1 = concentration_at_x(concentration, X_POS1)\n",
    "concentration_result_1 = concentration_fixed_x_1(TIME)\n",
    "\n",
    "concentration_fixed_x_2 = concentration_at_x(concentration, X_POS2)\n",
    "concentration_result_2 = concentration_fixed_x_2(TIME)"
   ]
  },
  {
   "cell_type": "code",
   "execution_count": null,
   "metadata": {},
   "outputs": [],
   "source": [
    "# Plot the first concentration result\n",
    "\n",
    "fig = pyplot.figure(figsize=(6, 3.5))\n",
    "fig.gca().plot(TIME, concentration_result_1)\n",
    "fig.suptitle(f'Concentration of isotope at X1={X_POS1.magnitude}m over time')\n",
    "fig.gca().grid()\n",
    "open_atmos_jupyter_utils.show_plot(fig=fig)"
   ]
  },
  {
   "cell_type": "code",
   "execution_count": null,
   "metadata": {},
   "outputs": [],
   "source": [
    "# Plot the second concentration result\n",
    "\n",
    "fig = pyplot.figure(figsize=(6, 3.5))\n",
    "fig.gca().plot(TIME, concentration_result_2)\n",
    "fig.suptitle(f'Concentration of isotope at X2={X_POS2.magnitude}m over time')\n",
    "fig.gca().grid()\n",
    "open_atmos_jupyter_utils.show_plot(fig=fig)"
   ]
  },
  {
   "cell_type": "markdown",
   "metadata": {},
   "source": [
    "### The results"
   ]
  },
  {
   "cell_type": "markdown",
   "metadata": {},
   "source": [
    "- As it can be seen, the two graphs, at x1 = 0.15m and x2 = 0.35m logically represent what we might have initially thought.\n",
    "\n",
    "- The closer to the initial point location - x1 - observed the property first - picking up readings at around 13s, peaking at 24s, and losing readings at around 60s\n",
    "\n",
    "- The farther one - x2 - picked up at 33s, peaked around a minute (60s), with positive readings going a little over the 100s\n",
    "\n",
    "- further down the line, the curve was also more spread out, as a result of the diffusion part of the equation, while the curve at x1 was narrower\n",
    "\n",
    "- Because of that diffusion, the maximum observed value was higher at sensor x1 ($0.64kg/m^3$), than later at sensor x2 ($0.40kg/m^3$), when the substance was more \"spread out\"\n",
    "\n",
    "- overall, the amount of total mass observed is the same in both cases, so the area under the curve should be the same.\n",
    "\n",
    "- The shape of the graph resembles a bell curve to some degree, although it is not an exact linear normal distribution, as the \"sides\" of the bell are not symmetric\n",
    "\n",
    "- Nevertheless, if one was to compare the dependencies of mean and variance of those graphs as with the normal distribution, one could say that as the mean increases, the variance increases too. "
   ]
  }
 ],
 "metadata": {
  "kernelspec": {
   "display_name": "Python 3",
   "language": "python",
   "name": "python3"
  },
  "language_info": {
   "codemirror_mode": {
    "name": "ipython",
    "version": 3
   },
   "file_extension": ".py",
   "mimetype": "text/x-python",
   "name": "python",
   "nbconvert_exporter": "python",
   "pygments_lexer": "ipython3",
   "version": "3.12.1"
  }
 },
 "nbformat": 4,
 "nbformat_minor": 2
}
